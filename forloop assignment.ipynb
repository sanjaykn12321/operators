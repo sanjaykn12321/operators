{
 "cells": [
  {
   "cell_type": "code",
   "execution_count": 1,
   "id": "802c5235-d406-405e-a9e4-ed3903cc2adf",
   "metadata": {},
   "outputs": [],
   "source": [
    "#for loop assignment"
   ]
  },
  {
   "cell_type": "code",
   "execution_count": 2,
   "id": "192ec1db-e3ba-4c08-bfd3-8dd55634282c",
   "metadata": {},
   "outputs": [],
   "source": [
    "#BASIC LEVEL"
   ]
  },
  {
   "cell_type": "code",
   "execution_count": 4,
   "id": "8e667816-ffd6-4680-ab4c-ab6949174cdb",
   "metadata": {},
   "outputs": [
    {
     "name": "stdout",
     "output_type": "stream",
     "text": [
      "1\n",
      "2\n",
      "3\n",
      "4\n",
      "5\n",
      "6\n",
      "7\n",
      "8\n",
      "9\n",
      "10\n"
     ]
    }
   ],
   "source": [
    "#1. Write a Python program to print the numbers from 1 to 10 using a `for` loop.\n",
    "for i in list(range(1,11)):\n",
    "    print(i)"
   ]
  },
  {
   "cell_type": "code",
   "execution_count": 9,
   "id": "4920ab88-5e8d-4bb9-8cf3-eaf3485ee348",
   "metadata": {},
   "outputs": [
    {
     "name": "stdout",
     "output_type": "stream",
     "text": [
      "1\n",
      "3\n",
      "6\n",
      "10\n",
      "15\n"
     ]
    }
   ],
   "source": [
    "#2. Create a program that calculates the sum of all numbers in a list using a `for` loop.\n",
    "\n",
    "sum1 = 0\n",
    "for i in [1,2,3,4,5]:\n",
    "    sum1 = sum1 + i\n",
    "    print(sum1)\n",
    "    "
   ]
  },
  {
   "cell_type": "code",
   "execution_count": 15,
   "id": "a9e28a9f-f9b5-48c3-9379-6268e4fb51ea",
   "metadata": {},
   "outputs": [
    {
     "name": "stdout",
     "output_type": "stream",
     "text": [
      "y a j n a s "
     ]
    }
   ],
   "source": [
    "#3. Write a program to print the characters of a string in reverse order using a `for` loop.\n",
    "str1=\"sanjay\"\n",
    "\n",
    "for x in str1[::-1]:\n",
    "    print(x, end=\" \")"
   ]
  },
  {
   "cell_type": "code",
   "execution_count": 16,
   "id": "784c71f5-f31b-4408-83d6-e31388657d40",
   "metadata": {},
   "outputs": [
    {
     "name": "stdout",
     "output_type": "stream",
     "text": [
      "The factorial of 7 is 5040\n"
     ]
    }
   ],
   "source": [
    "#4. Develop a program that finds the factorial of a given number using a `for` loop.\n",
    "num = 7\n",
    "factorial = 1\n",
    "\n",
    "if num < 0:\n",
    "   print(\"Sorry, factorial does not exist for negative numbers\")\n",
    "elif num == 0:\n",
    "   print(\"The factorial of 0 is 1\")\n",
    "else:\n",
    "   for i in range(1,num + 1):\n",
    "       factorial = factorial*i\n",
    "   print(\"The factorial of\",num,\"is\",factorial)\n"
   ]
  },
  {
   "cell_type": "code",
   "execution_count": 2,
   "id": "75f76980-12b1-4057-bf66-26c4543e93a3",
   "metadata": {},
   "outputs": [
    {
     "name": "stdin",
     "output_type": "stream",
     "text": [
      "Enter a non-negative integer:  5\n"
     ]
    },
    {
     "name": "stdout",
     "output_type": "stream",
     "text": [
      "The factorial of 5 is: 120\n"
     ]
    }
   ],
   "source": [
    "#4. Develop a program that finds the factorial of a given number using a `for` loop\n",
    "def factorial(n):\n",
    "    result = 1\n",
    "    for i in range(1, n+1):\n",
    "        result *= i\n",
    "    return result\n",
    "number = int(input(\"Enter a non-negative integer: \"))\n",
    "if number < 0:\n",
    "    print(\"Factorial is not defined for negative numbers.\")\n",
    "else:\n",
    "    fact = factorial(number)\n",
    "    print(f\"The factorial of {number} is: {fact}\")"
   ]
  },
  {
   "cell_type": "code",
   "execution_count": 3,
   "id": "8fd2b8ad-5047-451d-a7d1-835fdacf1cba",
   "metadata": {},
   "outputs": [
    {
     "name": "stdin",
     "output_type": "stream",
     "text": [
      "Enter a number to generate its multiplication table:  5\n"
     ]
    },
    {
     "name": "stdout",
     "output_type": "stream",
     "text": [
      "5 x 1 = 5\n",
      "5 x 2 = 10\n",
      "5 x 3 = 15\n",
      "5 x 4 = 20\n",
      "5 x 5 = 25\n",
      "5 x 6 = 30\n",
      "5 x 7 = 35\n",
      "5 x 8 = 40\n",
      "5 x 9 = 45\n",
      "5 x 10 = 50\n"
     ]
    }
   ],
   "source": [
    "#5. Create a program to print the multiplication table of a given number using a `for` loop.\n",
    "number = int(input(\"Enter a number to generate its multiplication table: \"))\n",
    "\n",
    "for i in range(1, 11):\n",
    "    print(f\"{number} x {i} = {number*i}\")"
   ]
  },
  {
   "cell_type": "code",
   "execution_count": 8,
   "id": "07f1d0cc-603e-4790-89ff-4b9a24a8433b",
   "metadata": {},
   "outputs": [
    {
     "name": "stdout",
     "output_type": "stream",
     "text": [
      "Number of even numbers: 5\n",
      "Number of odd numbers: 5\n"
     ]
    }
   ],
   "source": [
    "#6. Write a program that counts the number of even and odd numbers in a list using a `for` loop\n",
    "numbers = [1, 2, 3, 4, 5, 6, 7, 8, 9, 10]\n",
    "\n",
    "even_count = 0\n",
    "odd_count = 0\n",
    "\n",
    "for num in numbers:\n",
    "    if num % 2 == 0:\n",
    "        even_count += 1\n",
    "    else:\n",
    "        odd_count += 1\n",
    "\n",
    "print(f\"Number of even numbers: {even_count}\")\n",
    "print(f\"Number of odd numbers: {odd_count}\")"
   ]
  },
  {
   "cell_type": "code",
   "execution_count": 9,
   "id": "b82715a0-0c36-46c1-8419-f8ea23ecc115",
   "metadata": {},
   "outputs": [
    {
     "name": "stdout",
     "output_type": "stream",
     "text": [
      "The square of 1 is: 1\n",
      "The square of 2 is: 4\n",
      "The square of 3 is: 9\n",
      "The square of 4 is: 16\n",
      "The square of 5 is: 25\n"
     ]
    }
   ],
   "source": [
    "#7. Develop a program that prints the squares of numbers from 1 to 5 using a `for` loop\n",
    "for i in range(1, 6):\n",
    "    square = i ** 2\n",
    "    print(f\"The square of {i} is: {square}\")"
   ]
  },
  {
   "cell_type": "code",
   "execution_count": 10,
   "id": "579f4d97-bf3c-4509-917e-18f4a66fd259",
   "metadata": {},
   "outputs": [
    {
     "name": "stdout",
     "output_type": "stream",
     "text": [
      "The length of the string is: 13\n"
     ]
    }
   ],
   "source": [
    "#8. Create a program to find the length of a string without using the `len()` function\n",
    "input_string = \"Hello, World!\"\n",
    "length = 0\n",
    "\n",
    "for char in input_string:\n",
    "    length += 1\n",
    "\n",
    "print(f\"The length of the string is: {length}\")"
   ]
  },
  {
   "cell_type": "code",
   "execution_count": 11,
   "id": "8463b64c-7701-4b81-916a-f009160a57bf",
   "metadata": {},
   "outputs": [
    {
     "name": "stdout",
     "output_type": "stream",
     "text": [
      "The average of the numbers is: 30.0\n"
     ]
    }
   ],
   "source": [
    "#9. Write a program that calculates the average of a list of numbers using a `for` loop\n",
    "numbers = [10, 20, 30, 40, 50]\n",
    "\n",
    "total = 0\n",
    "count = 0\n",
    "\n",
    "for num in numbers:\n",
    "    total += num\n",
    "    count += 1\n",
    "\n",
    "average = total / count\n",
    "\n",
    "print(f\"The average of the numbers is: {average}\")\n"
   ]
  },
  {
   "cell_type": "code",
   "execution_count": 12,
   "id": "30f9c07c-95da-4abf-921b-04bbc7c78f91",
   "metadata": {},
   "outputs": [
    {
     "name": "stdin",
     "output_type": "stream",
     "text": [
      "Enter the number of Fibonacci numbers to generate:  4\n"
     ]
    },
    {
     "name": "stdout",
     "output_type": "stream",
     "text": [
      "The first 4 Fibonacci numbers are:\n",
      "0 1 1 2 "
     ]
    }
   ],
   "source": [
    "#10. Develop a program that prints the first `n` Fibonacci numbers using a `for` loop.\n",
    "n = int(input(\"Enter the number of Fibonacci numbers to generate: \"))\n",
    "\n",
    "fibonacci_numbers = [0, 1]\n",
    "\n",
    "for i in range(2, n):\n",
    "    next_fib = fibonacci_numbers[-1] + fibonacci_numbers[-2]\n",
    "    fibonacci_numbers.append(next_fib)\n",
    "\n",
    "print(f\"The first {n} Fibonacci numbers are:\")\n",
    "for fib in fibonacci_numbers[:n]:\n",
    "    print(fib, end=\" \")\n"
   ]
  },
  {
   "cell_type": "code",
   "execution_count": 13,
   "id": "5f2c94b5-15b7-4515-a60f-fd6f7b4c8c22",
   "metadata": {},
   "outputs": [
    {
     "name": "stdout",
     "output_type": "stream",
     "text": [
      "The list contains duplicates\n"
     ]
    }
   ],
   "source": [
    "#11. Write a program to check if a given list contains any duplicates using a `for` loop.\n",
    "input_list = [1, 2, 3, 4, 1, 5]\n",
    "\n",
    "contains_duplicates = False\n",
    "\n",
    "for i in range(len(input_list)):\n",
    "    for j in range(i + 1, len(input_list)):\n",
    "        if input_list[i] == input_list[j]:\n",
    "            contains_duplicates = True\n",
    "            break\n",
    "\n",
    "if contains_duplicates:\n",
    "    print(\"The list contains duplicates\")\n",
    "else:\n",
    "    print(\"The list does not contain duplicates\")\n"
   ]
  },
  {
   "cell_type": "code",
   "execution_count": 14,
   "id": "d3d427f5-e5a9-4558-8f65-d2d0cb0a9ed7",
   "metadata": {},
   "outputs": [
    {
     "name": "stdin",
     "output_type": "stream",
     "text": [
      "Enter the start of the range:  1\n",
      "Enter the end of the range:  11\n"
     ]
    },
    {
     "name": "stdout",
     "output_type": "stream",
     "text": [
      "The prime numbers between 1 and 11 are:\n",
      "2\n",
      "3\n",
      "5\n",
      "7\n",
      "11\n"
     ]
    }
   ],
   "source": [
    "#12. Create a program that prints the prime numbers in a given range using a `for` loop.\n",
    "\n",
    "start = int(input(\"Enter the start of the range: \"))\n",
    "end = int(input(\"Enter the end of the range: \"))\n",
    "\n",
    "print(f\"The prime numbers between {start} and {end} are:\")\n",
    "\n",
    "for num in range(start, end + 1):\n",
    "    if num > 1:\n",
    "        is_prime = True\n",
    "        for i in range(2, int(num**0.5) + 1):\n",
    "            if num % i == 0:\n",
    "                is_prime = False\n",
    "                break\n",
    "        if is_prime:\n",
    "            print(num)\n"
   ]
  },
  {
   "cell_type": "code",
   "execution_count": 19,
   "id": "0a3b4b42-973c-4d2d-9d76-47bfb11f5f0b",
   "metadata": {},
   "outputs": [
    {
     "name": "stdin",
     "output_type": "stream",
     "text": [
      "enter the string: trdjtfyu5dcvjhodssswa5t\n"
     ]
    },
    {
     "name": "stdout",
     "output_type": "stream",
     "text": [
      "The number of vowels in the string is: 3\n"
     ]
    }
   ],
   "source": [
    "#13. Develop a program that counts the number of vowels in a string using a `for` loop.\n",
    "input_string = input(\"enter the string:\")\n",
    "\n",
    "vowels = set(\"aeiouAEIOU\")\n",
    "\n",
    "vowel_count =0\n",
    "\n",
    "for char in input_string:\n",
    "    if char in vowels:\n",
    "        vowel_count += 1\n",
    "        \n",
    "print(f\"The number of vowels in the string is: {vowel_count}\")\n",
    "\n"
   ]
  },
  {
   "cell_type": "code",
   "execution_count": 20,
   "id": "e405e824-3f3c-4248-a445-cd79df264432",
   "metadata": {},
   "outputs": [
    {
     "name": "stdout",
     "output_type": "stream",
     "text": [
      "The maximum element in the 2D list is: 9\n"
     ]
    }
   ],
   "source": [
    "#14. Write a program to find the maximum element in a 2D list using a nested `for` loop\n",
    "matrix = [\n",
    "    [1, 2, 3],\n",
    "    [4, 5, 6],\n",
    "    [7, 8, 9]\n",
    "]\n",
    "\n",
    "max_element = matrix[0][0]\n",
    "\n",
    "for row in matrix:\n",
    "    for element in row:\n",
    "        if element > max_element:\n",
    "            max_element = element\n",
    "\n",
    "print(f\"The maximum element in the 2D list is: {max_element}\")\n"
   ]
  },
  {
   "cell_type": "code",
   "execution_count": 21,
   "id": "64b31690-a48b-407b-8023-a2ee484093a3",
   "metadata": {},
   "outputs": [
    {
     "name": "stdout",
     "output_type": "stream",
     "text": [
      "The updated list after removing 3 is: [1, 5, 7, 9]\n"
     ]
    }
   ],
   "source": [
    "#15. Create a program that removes all occurrences of a specific element from a list using a `for` loop.\n",
    "input_list = [1, 3, 5, 3, 7, 3, 9, 3]\n",
    "\n",
    "element_to_remove = 3\n",
    "\n",
    "updated_list = []\n",
    "\n",
    "for item in input_list:\n",
    "    if item != element_to_remove:\n",
    "        updated_list.append(item)\n",
    "\n",
    "print(f\"The updated list after removing {element_to_remove} is: {updated_list}\")\n"
   ]
  },
  {
   "cell_type": "code",
   "execution_count": 24,
   "id": "bcdf280b-6243-4d89-8e56-2394766409c9",
   "metadata": {},
   "outputs": [
    {
     "name": "stdout",
     "output_type": "stream",
     "text": [
      "Multiplication table for 1:\n",
      "1 x 1 = 1\n",
      "1 x 2 = 2\n",
      "1 x 3 = 3\n",
      "1 x 4 = 4\n",
      "1 x 5 = 5\n",
      "1 x 6 = 6\n",
      "1 x 7 = 7\n",
      "1 x 8 = 8\n",
      "1 x 9 = 9\n",
      "1 x 10 = 10\n",
      "\n",
      "Multiplication table for 2:\n",
      "2 x 1 = 2\n",
      "2 x 2 = 4\n",
      "2 x 3 = 6\n",
      "2 x 4 = 8\n",
      "2 x 5 = 10\n",
      "2 x 6 = 12\n",
      "2 x 7 = 14\n",
      "2 x 8 = 16\n",
      "2 x 9 = 18\n",
      "2 x 10 = 20\n",
      "\n",
      "Multiplication table for 3:\n",
      "3 x 1 = 3\n",
      "3 x 2 = 6\n",
      "3 x 3 = 9\n",
      "3 x 4 = 12\n",
      "3 x 5 = 15\n",
      "3 x 6 = 18\n",
      "3 x 7 = 21\n",
      "3 x 8 = 24\n",
      "3 x 9 = 27\n",
      "3 x 10 = 30\n",
      "\n",
      "Multiplication table for 4:\n",
      "4 x 1 = 4\n",
      "4 x 2 = 8\n",
      "4 x 3 = 12\n",
      "4 x 4 = 16\n",
      "4 x 5 = 20\n",
      "4 x 6 = 24\n",
      "4 x 7 = 28\n",
      "4 x 8 = 32\n",
      "4 x 9 = 36\n",
      "4 x 10 = 40\n",
      "\n",
      "Multiplication table for 5:\n",
      "5 x 1 = 5\n",
      "5 x 2 = 10\n",
      "5 x 3 = 15\n",
      "5 x 4 = 20\n",
      "5 x 5 = 25\n",
      "5 x 6 = 30\n",
      "5 x 7 = 35\n",
      "5 x 8 = 40\n",
      "5 x 9 = 45\n",
      "5 x 10 = 50\n",
      "\n"
     ]
    }
   ],
   "source": [
    "#16. Develop a program that generates a multiplication table for numbers from 1 to 5 using a nested `for` loop.\n",
    "\n",
    "for i in range(1, 5 + 1):\n",
    "    print(f\"Multiplication table for {i}:\")\n",
    "    for j in range(1, 11):\n",
    "        result = i * j\n",
    "        print(f\"{i} x {j} = {result}\")\n",
    "    print()\n"
   ]
  },
  {
   "cell_type": "code",
   "execution_count": 25,
   "id": "c4c9d95f-6f39-4ea2-8ba5-31e6389cde01",
   "metadata": {},
   "outputs": [
    {
     "name": "stdout",
     "output_type": "stream",
     "text": [
      "Fahrenheit Temperatures: [32, 45, 68, 95, 104]\n",
      "Celsius Temperatures: [0.0, 7.222222222222222, 20.0, 35.0, 40.0]\n"
     ]
    }
   ],
   "source": [
    "#17. Write a program that converts a list of Fahrenheit temperatures to Celsius using a `for` loop.\n",
    "fahrenheit_temperatures = [32, 45, 68, 95, 104]\n",
    "\n",
    "celsius_temperatures = []\n",
    "\n",
    "for temp_f in fahrenheit_temperatures:\n",
    "    temp_c = (temp_f - 32) * 5/9\n",
    "    celsius_temperatures.append(temp_c)\n",
    "\n",
    "print(f\"Fahrenheit Temperatures: {fahrenheit_temperatures}\")\n",
    "print(f\"Celsius Temperatures: {celsius_temperatures}\")\n"
   ]
  },
  {
   "cell_type": "code",
   "execution_count": 26,
   "id": "cd4686a7-0a46-4219-a4e3-7d52ee66a694",
   "metadata": {},
   "outputs": [
    {
     "name": "stdout",
     "output_type": "stream",
     "text": [
      "The common elements are: [4, 5]\n"
     ]
    }
   ],
   "source": [
    "#18. Create a program to print the common elements from two lists using a `for` loop\n",
    "list1 = [1, 2, 3, 4, 5]\n",
    "list2 = [4, 5, 6, 7, 8]\n",
    "\n",
    "common_elements = []\n",
    "\n",
    "for item1 in list1:\n",
    "    for item2 in list2:\n",
    "        if item1 == item2:\n",
    "            common_elements.append(item1)\n",
    "\n",
    "print(f\"The common elements are: {common_elements}\")\n"
   ]
  },
  {
   "cell_type": "code",
   "execution_count": 27,
   "id": "b491be31-01ca-4728-9bf9-497683cb2b57",
   "metadata": {},
   "outputs": [
    {
     "name": "stdout",
     "output_type": "stream",
     "text": [
      "* \n",
      "* * \n",
      "* * * \n",
      "* * * * \n",
      "* * * * * \n"
     ]
    }
   ],
   "source": [
    "#19. Develop a program that prints the pattern of right-angled triangles using a `for` loop. Use ‘*’ to draw the pattern\n",
    "for i in range(5):\n",
    "    for j in range(i+1):\n",
    "        print(\"*\", end=\" \")\n",
    "    print()\n"
   ]
  },
  {
   "cell_type": "code",
   "execution_count": 28,
   "id": "4739e76b-80d2-4538-a5d4-8f5e9909d0ab",
   "metadata": {},
   "outputs": [
    {
     "name": "stdin",
     "output_type": "stream",
     "text": [
      "Enter the first number:  3\n",
      "Enter the second number:  4\n"
     ]
    },
    {
     "name": "stdout",
     "output_type": "stream",
     "text": [
      "The GCD of 3 and 4 is: 1\n"
     ]
    }
   ],
   "source": [
    "#20. Write a program to find the greatest common divisor (GCD) of two numbers using a `for` loop\n",
    "num1 = int(input(\"Enter the first number: \"))\n",
    "num2 = int(input(\"Enter the second number: \"))\n",
    "\n",
    "min_num = min(num1, num2)\n",
    "\n",
    "gcd = 1\n",
    "\n",
    "for i in range(1, min_num + 1):\n",
    "    if num1 % i == 0 and num2 % i == 0:\n",
    "        gcd = i\n",
    "\n",
    "print(f\"The GCD of {num1} and {num2} is: {gcd}\")\n"
   ]
  },
  {
   "cell_type": "code",
   "execution_count": 2,
   "id": "2aa242e6-9413-4a7e-b93e-7a3cc5c8911f",
   "metadata": {},
   "outputs": [
    {
     "name": "stdout",
     "output_type": "stream",
     "text": [
      "The original list: [123, 456, 789, 101]\n",
      "The sum of digits for each number: [6, 15, 24, 2]\n"
     ]
    }
   ],
   "source": [
    "#21. Create a program that calculates the sum of the digits of numbers in a list using a list comprehension\n",
    "\n",
    "numbers = [123, 456, 789, 101]\n",
    "\n",
    "sum_of_digits = [sum(int(digit) for digit in str(num)) for num in numbers]\n",
    "\n",
    "print(f\"The original list: {numbers}\")\n",
    "print(f\"The sum of digits for each number: {sum_of_digits}\")"
   ]
  },
  {
   "cell_type": "code",
   "execution_count": 3,
   "id": "62509a06-243a-4b04-8a4e-bdc55436b8ad",
   "metadata": {},
   "outputs": [
    {
     "name": "stdin",
     "output_type": "stream",
     "text": [
      "Enter a number to find its prime factors:  2\n"
     ]
    },
    {
     "name": "stdout",
     "output_type": "stream",
     "text": [
      "The prime factors of 1 are: [2]\n"
     ]
    }
   ],
   "source": [
    "#22. Write a program to find the prime factors of a given number using a `for` loop and list comprehension.\n",
    "num = int(input(\"Enter a number to find its prime factors: \"))\n",
    "\n",
    "prime_factors = []\n",
    "\n",
    "for i in range(2, num + 1):\n",
    "    while num % i == 0:\n",
    "        prime_factors.append(i)\n",
    "        num = num // i\n",
    "    if num == 1:\n",
    "        break\n",
    "\n",
    "print(f\"The prime factors of {num} are: {prime_factors}\")\n"
   ]
  },
  {
   "cell_type": "code",
   "execution_count": 4,
   "id": "347e1019-62cd-4343-9dbf-61302920d220",
   "metadata": {},
   "outputs": [
    {
     "name": "stdout",
     "output_type": "stream",
     "text": [
      "The original list: [1, 2, 3, 3, 4, 5, 5, 6, 6, 7, 8, 9]\n",
      "The list with unique elements: [1, 2, 3, 4, 5, 6, 7, 8, 9]\n"
     ]
    }
   ],
   "source": [
    "#23. Develop a program that extracts unique elements from a list and stores them in a new list using a list comprehension\n",
    "original_list = [1, 2, 3, 3, 4, 5, 5, 6, 6, 7, 8, 9]\n",
    "\n",
    "unique_elements = [x for i, x in enumerate(original_list) if original_list.index(x) == i]\n",
    "\n",
    "print(f\"The original list: {original_list}\")\n",
    "print(f\"The list with unique elements: {unique_elements}\")\n"
   ]
  },
  {
   "cell_type": "code",
   "execution_count": 5,
   "id": "a619d241-0233-4531-b3a9-ac986f48293a",
   "metadata": {},
   "outputs": [
    {
     "name": "stdin",
     "output_type": "stream",
     "text": [
      "Enter the upper limit:  56\n"
     ]
    },
    {
     "name": "stdout",
     "output_type": "stream",
     "text": [
      "The palindromic numbers up to 56 are: [11, 22, 33, 44, 55]\n"
     ]
    }
   ],
   "source": [
    "#24. Create a program that generates a list of all palindromic numbers up to a specified limit using a list comprehension.\n",
    "limit = int(input(\"Enter the upper limit: \"))\n",
    "\n",
    "palindromic_numbers = [num for num in range(limit + 1) if str(num) == str(num)[::-1] and num > 9]\n",
    "\n",
    "print(f\"The palindromic numbers up to {limit} are: {palindromic_numbers}\")\n"
   ]
  },
  {
   "cell_type": "code",
   "execution_count": 6,
   "id": "6b8e7a54-83f3-439e-9774-ea6abe24e593",
   "metadata": {},
   "outputs": [
    {
     "name": "stdout",
     "output_type": "stream",
     "text": [
      "The flattened list is: [1, 2, 3, 4, 5, 6, 7, 8, 9, 10]\n"
     ]
    }
   ],
   "source": [
    "#25. Write a program to flatten a nested list using list comprehension.\n",
    "nested_list = [[1, 2, 3], [4, 5], [6, 7, 8, 9], [10]]\n",
    "\n",
    "flattened_list = [item for sublist in nested_list for item in sublist]\n",
    "\n",
    "print(f\"The flattened list is: {flattened_list}\")\n"
   ]
  },
  {
   "cell_type": "code",
   "execution_count": 7,
   "id": "73ee30ba-98bd-4781-8880-91911f11d0cc",
   "metadata": {},
   "outputs": [
    {
     "name": "stdout",
     "output_type": "stream",
     "text": [
      "The sum of even numbers is: 20\n",
      "The sum of odd numbers is: 25\n"
     ]
    }
   ],
   "source": [
    "#26. Develop a program that computes the sum of even and odd numbers in a list separately using list comprehension.\n",
    "numbers = [1, 2, 3, 4, 5, 6, 7, 8, 9]\n",
    "\n",
    "sum_even = sum(x for x in numbers if x % 2 == 0)\n",
    "sum_odd = sum(x for x in numbers if x % 2 != 0)\n",
    "\n",
    "print(f\"The sum of even numbers is: {sum_even}\")\n",
    "print(f\"The sum of odd numbers is: {sum_odd}\")\n"
   ]
  },
  {
   "cell_type": "code",
   "execution_count": 8,
   "id": "694cb06c-ab47-4aa8-ac5a-91609607d398",
   "metadata": {},
   "outputs": [
    {
     "name": "stdout",
     "output_type": "stream",
     "text": [
      "The squares of odd numbers between 1 and 10 are: [1, 9, 25, 49, 81]\n"
     ]
    }
   ],
   "source": [
    "#27. Create a program that generates a list of squares of odd numbers between 1 and 10 using list comprehension\n",
    "squares_of_odd = [x**2 for x in range(1, 11) if x % 2 != 0]\n",
    "\n",
    "print(f\"The squares of odd numbers between 1 and 10 are: {squares_of_odd}\")\n"
   ]
  },
  {
   "cell_type": "code",
   "execution_count": 20,
   "id": "c4c2007b-b4fd-433d-8ad2-93eb9955bd83",
   "metadata": {},
   "outputs": [
    {
     "name": "stdout",
     "output_type": "stream",
     "text": [
      "1 9 25 49 81 "
     ]
    }
   ],
   "source": [
    "for x in range(1,11):\n",
    "    if x % 2 != 0:\n",
    "        print(x**2,end=\" \")"
   ]
  },
  {
   "cell_type": "code",
   "execution_count": 21,
   "id": "c89b4af6-e2d9-4fff-819a-d735e7984eaa",
   "metadata": {},
   "outputs": [
    {
     "name": "stdout",
     "output_type": "stream",
     "text": [
      "The combined dictionary is: {'a': 1, 'b': 2, 'c': 3}\n"
     ]
    }
   ],
   "source": [
    "#28. Write a program that combines two lists into a dictionary using list comprehension\n",
    "keys = ['a', 'b', 'c']\n",
    "values = [1, 2, 3]\n",
    "\n",
    "combined_dict = {k: v for k, v in zip(keys, values)}\n",
    "\n",
    "print(f\"The combined dictionary is: {combined_dict}\")\n"
   ]
  },
  {
   "cell_type": "code",
   "execution_count": 22,
   "id": "4528aa56-3753-47dd-9f7f-130029b6f815",
   "metadata": {},
   "outputs": [
    {
     "name": "stdout",
     "output_type": "stream",
     "text": [
      "The vowels in the string are: ['e', 'o', 'o']\n"
     ]
    }
   ],
   "source": [
    "#29. Develop a program that extracts the vowels from a string and stores them in a list using list comprehension\n",
    "input_string = \"Hello, World!\"\n",
    "\n",
    "vowels = set(\"aeiouAEIOU\")\n",
    "\n",
    "vowel_list = [char for char in input_string if char in vowels]\n",
    "\n",
    "print(f\"The vowels in the string are: {vowel_list}\")\n"
   ]
  },
  {
   "cell_type": "code",
   "execution_count": 23,
   "id": "5480072e-05e3-442f-a060-03be4c6ec191",
   "metadata": {},
   "outputs": [
    {
     "name": "stdout",
     "output_type": "stream",
     "text": [
      "The list with non-numeric characters removed: ['123', '456', '789', '']\n"
     ]
    }
   ],
   "source": [
    "#30. Create a program that removes all non-numeric characters from a list of strings using list comprehension.\n",
    "string_list = [\"abc123\", \"456def\", \"789ghi\", \"jkl\"]\n",
    "\n",
    "numeric_strings = [''.join(char for char in string if char.isdigit()) for string in string_list]\n",
    "\n",
    "print(f\"The list with non-numeric characters removed: {numeric_strings}\")\n"
   ]
  },
  {
   "cell_type": "code",
   "execution_count": 24,
   "id": "28ece197-9441-4ec8-ac0e-fc8567a489c8",
   "metadata": {},
   "outputs": [
    {
     "name": "stdin",
     "output_type": "stream",
     "text": [
      "Enter an upper limit to find prime numbers:  55\n"
     ]
    },
    {
     "name": "stdout",
     "output_type": "stream",
     "text": [
      "The prime numbers up to 55 are: [2, 3, 5, 7, 11, 13, 17, 19, 23, 29, 31, 37, 41, 43, 47, 53]\n"
     ]
    }
   ],
   "source": [
    "#31. Write a program to generate a list of prime numbers using the Sieve of Eratosthenes algorithm and list comprehension\n",
    "limit = int(input(\"Enter an upper limit to find prime numbers: \"))\n",
    "\n",
    "prime_numbers = []\n",
    "\n",
    "for num in range(2, limit + 1):\n",
    "    is_prime = True\n",
    "\n",
    "    for i in range(2, int(num**0.5) + 1):\n",
    "        if num % i == 0:\n",
    "            is_prime = False\n",
    "            break\n",
    "    \n",
    "    if is_prime:\n",
    "        prime_numbers.append(num)\n",
    "\n",
    "print(f\"The prime numbers up to {limit} are: {prime_numbers}\")\n"
   ]
  },
  {
   "cell_type": "code",
   "execution_count": 25,
   "id": "11f216fc-dd5f-4a8d-8ff8-d8e80bab8e26",
   "metadata": {},
   "outputs": [
    {
     "name": "stdin",
     "output_type": "stream",
     "text": [
      "Enter the upper limit:  67\n"
     ]
    },
    {
     "name": "stdout",
     "output_type": "stream",
     "text": [
      "The Pythagorean triplets up to 67 are: [(3, 4, 5), (5, 12, 13), (6, 8, 10), (7, 24, 25), (8, 15, 17), (9, 12, 15), (9, 40, 41), (10, 24, 26), (11, 60, 61), (12, 16, 20), (12, 35, 37), (14, 48, 50), (15, 20, 25), (15, 36, 39), (16, 30, 34), (16, 63, 65), (18, 24, 30), (20, 21, 29), (20, 48, 52), (21, 28, 35), (24, 32, 40), (24, 45, 51), (25, 60, 65), (27, 36, 45), (28, 45, 53), (30, 40, 50), (33, 44, 55), (33, 56, 65), (36, 48, 60), (39, 52, 65), (40, 42, 58)]\n"
     ]
    }
   ],
   "source": [
    "#32. Create a program that generates a list of all Pythagorean triplets up to a specified limit using list comprehension\n",
    "limit = int(input(\"Enter the upper limit: \"))\n",
    "\n",
    "pythagorean_triplets = [(a, b, c) for a in range(1, limit) \n",
    "                            for b in range(a, limit) \n",
    "                            for c in range(b, limit) \n",
    "                            if a**2 + b**2 == c**2]\n",
    "\n",
    "print(f\"The Pythagorean triplets up to {limit} are: {pythagorean_triplets}\")\n"
   ]
  },
  {
   "cell_type": "code",
   "execution_count": 26,
   "id": "7f22a22d-bdef-4df3-93af-0a49016528f2",
   "metadata": {},
   "outputs": [
    {
     "name": "stdout",
     "output_type": "stream",
     "text": [
      "All possible combinations are: [(1, 'a'), (1, 'b'), (1, 'c'), (2, 'a'), (2, 'b'), (2, 'c'), (3, 'a'), (3, 'b'), (3, 'c')]\n"
     ]
    }
   ],
   "source": [
    "#33. Develop a program that generates a list of all possible combinations of two lists using list comprehension\n",
    "list1 = [1, 2, 3]\n",
    "list2 = ['a', 'b', 'c']\n",
    "\n",
    "combinations = [(x, y) for x in list1 for y in list2]\n",
    "\n",
    "print(f\"All possible combinations are: {combinations}\")\n"
   ]
  },
  {
   "cell_type": "code",
   "execution_count": 27,
   "id": "75208d0b-1a7d-404b-a6ec-4500e199145e",
   "metadata": {},
   "outputs": [
    {
     "name": "stdout",
     "output_type": "stream",
     "text": [
      "The mean is: 5.0\n",
      "The median is: 5\n",
      "The mode is: 5\n"
     ]
    }
   ],
   "source": [
    "#34. Write a program that calculates the mean, median, and mode of a list of numbers using list comprehension.\n",
    "numbers = [1, 2, 3, 4, 5, 5, 5, 6, 7, 8, 9]\n",
    "\n",
    "mean = sum(numbers) / len(numbers)\n",
    "\n",
    "sorted_numbers = sorted(numbers)\n",
    "n = len(numbers)\n",
    "if n % 2 == 0:\n",
    "    median = (sorted_numbers[n//2 - 1] + sorted_numbers[n//2]) / 2\n",
    "else:\n",
    "    median = sorted_numbers[n//2]\n",
    "\n",
    "counts = {}\n",
    "for num in numbers:\n",
    "    if num in counts:\n",
    "        counts[num] += 1\n",
    "    else:\n",
    "        counts[num] = 1\n",
    "\n",
    "mode = max(counts, key=counts.get)\n",
    "\n",
    "# Print the results\n",
    "print(f\"The mean is: {mean}\")\n",
    "print(f\"The median is: {median}\")\n",
    "print(f\"The mode is: {mode}\")\n",
    "\n"
   ]
  },
  {
   "cell_type": "code",
   "execution_count": 28,
   "id": "924b5da8-502f-49a2-8941-2621b1cbfb76",
   "metadata": {},
   "outputs": [
    {
     "name": "stdin",
     "output_type": "stream",
     "text": [
      "Enter the number of rows for Pascal's triangle:  5\n"
     ]
    },
    {
     "name": "stdout",
     "output_type": "stream",
     "text": [
      "[1]\n",
      "[1, 1]\n",
      "[1, 2, 1]\n",
      "[1, 3, 3, 1]\n",
      "[1, 4, 6, 4, 1]\n"
     ]
    }
   ],
   "source": [
    "#35. Create a program that generates Pascal's triangle up to a specified number of rows using list comprehension.\n",
    "num_rows = int(input(\"Enter the number of rows for Pascal's triangle: \"))\n",
    "\n",
    "pascals_triangle = [[1]]\n",
    "\n",
    "for _ in range(1, num_rows):\n",
    "    previous_row = pascals_triangle[-1]\n",
    "    new_row = [1] + [previous_row[i-1] + previous_row[i] for i in range(1, len(previous_row))] + [1]\n",
    "    pascals_triangle.append(new_row)\n",
    "\n",
    "for row in pascals_triangle:\n",
    "    print(row)\n"
   ]
  },
  {
   "cell_type": "code",
   "execution_count": 29,
   "id": "e6993ede-c3be-4640-9c78-bdf99bb81981",
   "metadata": {},
   "outputs": [
    {
     "name": "stdout",
     "output_type": "stream",
     "text": [
      "The sum of digits of 1! is: 1\n",
      "The sum of digits of 2! is: 2\n",
      "The sum of digits of 3! is: 6\n",
      "The sum of digits of 4! is: 6\n",
      "The sum of digits of 5! is: 3\n"
     ]
    }
   ],
   "source": [
    "#36. Develop a program that calculates the sum of the digits of a factorial of numbers from 1 to 5 using list comprehension.\n",
    "def factorial(n):\n",
    "    if n == 0:\n",
    "        return 1\n",
    "    else:\n",
    "        return n * factorial(n-1)\n",
    "\n",
    "sum_of_digits = [sum(int(digit) for digit in str(factorial(i))) for i in range(1, 6)]\n",
    "\n",
    "for i, result in enumerate(sum_of_digits, 1):\n",
    "    print(f\"The sum of digits of {i}! is: {result}\")\n"
   ]
  },
  {
   "cell_type": "code",
   "execution_count": 30,
   "id": "8f090806-2bf6-4731-a6c2-294f92a648ea",
   "metadata": {},
   "outputs": [
    {
     "name": "stdin",
     "output_type": "stream",
     "text": [
      "Enter a sentence:  i am sanjay K N\n"
     ]
    },
    {
     "name": "stdout",
     "output_type": "stream",
     "text": [
      "The longest word in the sentence is: sanjay\n"
     ]
    }
   ],
   "source": [
    "#37. Write a program that finds the longest word in a sentence using list comprehension.\n",
    "sentence = input(\"Enter a sentence: \")\n",
    "\n",
    "words = sentence.split()\n",
    "\n",
    "longest_word = max(words, key=lambda word: len(word))\n",
    "\n",
    "print(f\"The longest word in the sentence is: {longest_word}\")\n"
   ]
  },
  {
   "cell_type": "code",
   "execution_count": 31,
   "id": "a7ea5988-529a-4be9-808a-a90ebfe203d4",
   "metadata": {},
   "outputs": [
    {
     "name": "stdout",
     "output_type": "stream",
     "text": [
      "The strings with more than three vowels are: ['aeiou', 'openai']\n"
     ]
    }
   ],
   "source": [
    "#38. Create a program that filters a list of strings to include only those with more than three vowels using list comprehension\n",
    "string_list = [\"hello\", \"world\", \"python\", \"aeiou\", \"algorithm\", \"openai\"]\n",
    "\n",
    "vowels = set(\"aeiouAEIOU\")\n",
    "\n",
    "filtered_strings = [string for string in string_list if sum(1 for char in string if char in vowels) > 3]\n",
    "\n",
    "print(f\"The strings with more than three vowels are: {filtered_strings}\")\n"
   ]
  },
  {
   "cell_type": "code",
   "execution_count": 34,
   "id": "f10a6054-ece1-4dd4-a8e0-66120da98a91",
   "metadata": {},
   "outputs": [
    {
     "name": "stdout",
     "output_type": "stream",
     "text": [
      "The sum of digits of 1 is: 1\n",
      "The sum of digits of 2 is: 2\n",
      "The sum of digits of 3 is: 3\n",
      "The sum of digits of 4 is: 4\n",
      "The sum of digits of 5 is: 5\n",
      "The sum of digits of 6 is: 6\n",
      "The sum of digits of 7 is: 7\n",
      "The sum of digits of 8 is: 8\n",
      "The sum of digits of 9 is: 9\n",
      "The sum of digits of 10 is: 1\n"
     ]
    }
   ],
   "source": [
    "#39. Develop a program that calculates the sum of the digits of numbers from 1 to 1000 using list comprehension.\n",
    "sum_of_digits = [sum(int(digit) for digit in str(i)) for i in range(1, 11)]\n",
    "\n",
    "for i, result in enumerate(sum_of_digits, 1):\n",
    "    print(f\"The sum of digits of {i} is: {result}\")\n"
   ]
  },
  {
   "cell_type": "code",
   "execution_count": null,
   "id": "ae5735ce-ffe1-4571-8bef-4a1981055e25",
   "metadata": {},
   "outputs": [],
   "source": []
  }
 ],
 "metadata": {
  "kernelspec": {
   "display_name": "Python 3 (ipykernel)",
   "language": "python",
   "name": "python3"
  },
  "language_info": {
   "codemirror_mode": {
    "name": "ipython",
    "version": 3
   },
   "file_extension": ".py",
   "mimetype": "text/x-python",
   "name": "python",
   "nbconvert_exporter": "python",
   "pygments_lexer": "ipython3",
   "version": "3.10.8"
  }
 },
 "nbformat": 4,
 "nbformat_minor": 5
}
