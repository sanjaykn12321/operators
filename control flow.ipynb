{
 "cells": [
  {
   "cell_type": "code",
   "execution_count": 1,
   "id": "9902a4db-f991-45d0-ab5e-4ae84aaad568",
   "metadata": {},
   "outputs": [
    {
     "name": "stdin",
     "output_type": "stream",
     "text": [
      "Enter a number:  3\n"
     ]
    },
    {
     "name": "stdout",
     "output_type": "stream",
     "text": [
      "The entered number is positive.\n"
     ]
    }
   ],
   "source": [
    "#1. Write a Python program to check if a given number is positive or negative.\n",
    "# Get user input\n",
    "number = float(input(\"Enter a number: \"))\n",
    "\n",
    "# Check if the number is positive, negative, or zero\n",
    "if number > 0:\n",
    "    print(\"The entered number is positive.\")\n",
    "elif number < 0:\n",
    "    print(\"The entered number is negative.\")\n",
    "else:\n",
    "    print(\"The entered number is zero.\")\n"
   ]
  },
  {
   "cell_type": "code",
   "execution_count": 5,
   "id": "703255cc-e8e6-4213-91e1-b84f0b727bbc",
   "metadata": {},
   "outputs": [
    {
     "name": "stdin",
     "output_type": "stream",
     "text": [
      "enter the age  23\n"
     ]
    },
    {
     "name": "stdout",
     "output_type": "stream",
     "text": [
      "Person is eligible for voting\n"
     ]
    }
   ],
   "source": [
    "#2. Create a program that determines if a person is eligible to vote based on their age.\n",
    "person = int(input(\"enter the age: \"))\n",
    "\n",
    "if person>=18:\n",
    "    print(\"Person is eligible for voting\")\n",
    "else:\n",
    "    print(\"person is not eligible for voting\")"
   ]
  },
  {
   "cell_type": "code",
   "execution_count": 6,
   "id": "03accc22-b230-4f8e-b120-bfc2632b1376",
   "metadata": {},
   "outputs": [
    {
     "name": "stdin",
     "output_type": "stream",
     "text": [
      "enter the number: 4\n",
      "enter the numbetr: 5\n"
     ]
    },
    {
     "name": "stdout",
     "output_type": "stream",
     "text": [
      "The maximum of 4.0 and 5.0 is: 5.0\n"
     ]
    }
   ],
   "source": [
    "#3. Develop a program to find the maximum of two numbers using if-else statements.\n",
    "num1 = float(input(\"enter the number:\"))\n",
    "num2 = float(input(\"enter the numbetr:\"))\n",
    "\n",
    "if num1>num2:\n",
    "    max_num = num1\n",
    "else:\n",
    "    max_num = num2\n",
    "    \n",
    "print(\"The maximum of {} and {} is: {}\".format(num1, num2, max_num))"
   ]
  },
  {
   "cell_type": "code",
   "execution_count": 8,
   "id": "92e3d8ba-adba-45be-96b6-f37c7fdc0943",
   "metadata": {},
   "outputs": [
    {
     "name": "stdin",
     "output_type": "stream",
     "text": [
      "enter the year: 4252\n"
     ]
    },
    {
     "name": "stdout",
     "output_type": "stream",
     "text": [
      "4252 is a leap year.\n"
     ]
    }
   ],
   "source": [
    "#4. Write a Python script to classify a given year as a leap year or not.\n",
    "year = int(input(\"enter the year:\"))\n",
    "\n",
    "if (year % 4 == 0 and year % 100 != 0) or (year % 400 == 0):\n",
    "    print(\"{} is a leap year.\".format(year))\n",
    "else:\n",
    "    print(\"{} is not a leap year.\".format(year))"
   ]
  },
  {
   "cell_type": "code",
   "execution_count": 10,
   "id": "3528c1c8-39b2-4c83-bb3f-34d746611647",
   "metadata": {},
   "outputs": [
    {
     "name": "stdin",
     "output_type": "stream",
     "text": [
      "Enter a character:  s\n"
     ]
    },
    {
     "name": "stdout",
     "output_type": "stream",
     "text": [
      "s is a consonant.\n"
     ]
    }
   ],
   "source": [
    "#5. Create a program that checks whether a character is a vowel or a consonant.\n",
    "char = input(\"Enter a character: \")\n",
    "\n",
    "# Check if it's a vowel or a consonant\n",
    "if char.isalpha() and len(char) == 1:\n",
    "    char_lower = char.lower()  # Convert to lowercase for case-insensitivity\n",
    "    if char_lower in ['a', 'e', 'i', 'o', 'u']:\n",
    "        print(\"{} is a vowel.\".format(char))\n",
    "    else:\n",
    "        print(\"{} is a consonant.\".format(char))\n",
    "else:\n",
    "    print(\"Please enter a valid single character.\")\n"
   ]
  },
  {
   "cell_type": "code",
   "execution_count": 11,
   "id": "b4bfb359-7d33-4373-92ba-9022d009cc68",
   "metadata": {},
   "outputs": [
    {
     "name": "stdin",
     "output_type": "stream",
     "text": [
      "enter the input: 4\n"
     ]
    },
    {
     "name": "stdout",
     "output_type": "stream",
     "text": [
      "given number is even\n"
     ]
    }
   ],
   "source": [
    "#6. Implement a program to determine whether a given number is even or odd.\n",
    "num = int(input('enter the input:'))\n",
    "\n",
    "if num %2 ==0:\n",
    "    print('given number is even')\n",
    "else:\n",
    "    print(\"given number is odd\")"
   ]
  },
  {
   "cell_type": "code",
   "execution_count": 12,
   "id": "ad9b5b4f-77d8-444f-ac5b-605c3de80fe7",
   "metadata": {},
   "outputs": [
    {
     "name": "stdin",
     "output_type": "stream",
     "text": [
      "Enter a number:  7\n"
     ]
    },
    {
     "name": "stdout",
     "output_type": "stream",
     "text": [
      "The absolute value of 7.0 is: 7.0\n"
     ]
    }
   ],
   "source": [
    "#7. Write a Python function to calculate the absolute value of a number without using the `abs()` function.\n",
    "def calculate_absolute_value(number):\n",
    "    if number < 0:\n",
    "        return -number\n",
    "    else:\n",
    "        return number\n",
    "\n",
    "# Get user input for a number\n",
    "num = float(input(\"Enter a number: \"))\n",
    "\n",
    "# Calculate and print the absolute value\n",
    "result = calculate_absolute_value(num)\n",
    "print(\"The absolute value of {} is: {}\".format(num, result))\n"
   ]
  },
  {
   "cell_type": "code",
   "execution_count": 13,
   "id": "8dde8748-b8c7-4d73-9f1c-a0bf3ca47a4c",
   "metadata": {},
   "outputs": [
    {
     "name": "stdin",
     "output_type": "stream",
     "text": [
      "Enter the first number:  7\n",
      "Enter the second number:  80\n",
      "Enter the third number:  67556\n"
     ]
    },
    {
     "name": "stdout",
     "output_type": "stream",
     "text": [
      "The largest of 7.0, 80.0, and 67556.0 is: 67556.0\n"
     ]
    }
   ],
   "source": [
    "#8. Develop a program that determines the largest of three given numbers using if-else statements.\n",
    "num1 = float(input(\"Enter the first number: \"))\n",
    "num2 = float(input(\"Enter the second number: \"))\n",
    "num3 = float(input(\"Enter the third number: \"))\n",
    "\n",
    "# Compare the three numbers and find the largest\n",
    "if num1 >= num2 and num1 >= num3:\n",
    "    largest = num1\n",
    "elif num2 >= num1 and num2 >= num3:\n",
    "    largest = num2\n",
    "else:\n",
    "    largest = num3\n",
    "\n",
    "# Display the result\n",
    "print(\"The largest of {}, {}, and {} is: {}\".format(num1, num2, num3, largest))"
   ]
  },
  {
   "cell_type": "code",
   "execution_count": 14,
   "id": "7822a46b-0d21-4e7c-abf8-9e77e200b883",
   "metadata": {},
   "outputs": [
    {
     "name": "stdin",
     "output_type": "stream",
     "text": [
      "Enter a string:  sanjay\n"
     ]
    },
    {
     "name": "stdout",
     "output_type": "stream",
     "text": [
      "sanjay is not a palindrome.\n"
     ]
    }
   ],
   "source": [
    "#9. Create a program that checks if a given string is a palindrome.\n",
    "def is_palindrome(s):\n",
    "    s = s.replace(\" \", \"\").lower()\n",
    "    \n",
    "    # Check if the string is equal to its reverse\n",
    "    return s == s[::-1]\n",
    "\n",
    "# Get user input for a string\n",
    "input_string = input(\"Enter a string: \")\n",
    "\n",
    "# Check and print if the string is a palindrome or not\n",
    "if is_palindrome(input_string):\n",
    "    print(\"{} is a palindrome.\".format(input_string))\n",
    "else:\n",
    "    print(\"{} is not a palindrome.\".format(input_string))\n"
   ]
  },
  {
   "cell_type": "code",
   "execution_count": 15,
   "id": "1c103ff7-14a1-4412-b65e-50ab1cf9c13c",
   "metadata": {},
   "outputs": [
    {
     "name": "stdin",
     "output_type": "stream",
     "text": [
      "Enter the student's score:  86\n"
     ]
    },
    {
     "name": "stdout",
     "output_type": "stream",
     "text": [
      "The student's grade is: B\n"
     ]
    }
   ],
   "source": [
    "#10. Write a Python program to calculate the grade based on a student's score.\n",
    "score = float(input(\"Enter the student's score: \"))\n",
    "\n",
    "# Determine the grade based on the score\n",
    "if 90 <= score <= 100:\n",
    "    grade = 'A'\n",
    "elif 80 <= score < 90:\n",
    "    grade = 'B'\n",
    "elif 70 <= score < 80:\n",
    "    grade = 'C'\n",
    "elif 60 <= score < 70:\n",
    "    grade = 'D'\n",
    "elif 0 <= score < 60:\n",
    "    grade = 'F'\n",
    "else:\n",
    "    print(\"Invalid score. Please enter a score between 0 and 100.\")\n",
    "    exit()\n",
    "\n",
    "# Display the result\n",
    "print(\"The student's grade is: {}\".format(grade))\n"
   ]
  },
  {
   "cell_type": "code",
   "execution_count": 16,
   "id": "a3bc33b4-fcbc-4e64-b28b-49b4cbcf1020",
   "metadata": {},
   "outputs": [
    {
     "name": "stdin",
     "output_type": "stream",
     "text": [
      "Enter the first number:  34\n",
      "Enter the second number:  786\n",
      "Enter the third number:  545\n"
     ]
    },
    {
     "name": "stdout",
     "output_type": "stream",
     "text": [
      "The largest of 34.0, 786.0, and 545.0 is: 786.0\n"
     ]
    }
   ],
   "source": [
    "#11. Write a program to find the largest among three numbers using nested if-else statements.\n",
    "num1 = float(input(\"Enter the first number: \"))\n",
    "num2 = float(input(\"Enter the second number: \"))\n",
    "num3 = float(input(\"Enter the third number: \"))\n",
    "\n",
    "# Find the largest using nested if-else statements\n",
    "if num1 >= num2:\n",
    "    if num1 >= num3:\n",
    "        largest = num1\n",
    "    else:\n",
    "        largest = num3\n",
    "else:\n",
    "    if num2 >= num3:\n",
    "        largest = num2\n",
    "    else:\n",
    "        largest = num3\n",
    "\n",
    "# Display the result\n",
    "print(\"The largest of {}, {}, and {} is: {}\".format(num1, num2, num3, largest))\n",
    "\n"
   ]
  },
  {
   "cell_type": "code",
   "execution_count": 17,
   "id": "a80672d6-f2b4-4995-9403-f9f1253eb0fa",
   "metadata": {},
   "outputs": [
    {
     "name": "stdin",
     "output_type": "stream",
     "text": [
      "Enter the length of the first side:  5\n",
      "Enter the length of the second side:  3\n",
      "Enter the length of the third side:  3\n"
     ]
    },
    {
     "name": "stdout",
     "output_type": "stream",
     "text": [
      "The triangle is a isosceles triangle.\n"
     ]
    }
   ],
   "source": [
    "#12. Implement a program to determine if a triangle is equilateral, isosceles, or scalene.\n",
    "side1 = float(input(\"Enter the length of the first side: \"))\n",
    "side2 = float(input(\"Enter the length of the second side: \"))\n",
    "side3 = float(input(\"Enter the length of the third side: \"))\n",
    "\n",
    "# Check the type of triangle using if-else statements\n",
    "if side1 == side2 == side3:\n",
    "    triangle_type = \"equilateral\"\n",
    "elif side1 == side2 or side1 == side3 or side2 == side3:\n",
    "    triangle_type = \"isosceles\"\n",
    "else:\n",
    "    triangle_type = \"scalene\"\n",
    "\n",
    "# Display the result\n",
    "print(\"The triangle is a {} triangle.\".format(triangle_type))\n"
   ]
  },
  {
   "cell_type": "code",
   "execution_count": 19,
   "id": "4f5678fc-edb7-42d6-8e80-499fdf72e758",
   "metadata": {},
   "outputs": [
    {
     "name": "stdin",
     "output_type": "stream",
     "text": [
      "enter the year: 2423\n"
     ]
    },
    {
     "name": "stdout",
     "output_type": "stream",
     "text": [
      "2423 is not a leap year.\n",
      "2423 is not a century year.\n"
     ]
    }
   ],
   "source": [
    "#13. Develop a program that checks if a year is a leap year and also if it is a century year.\n",
    "year = int(input(\"enter the year:\"))\n",
    "if (year % 4 == 0 and year % 100 != 0) or (year % 400 == 0):\n",
    "    print(\"{} is a leap year.\".format(year))\n",
    "else:\n",
    "    print(\"{} is not a leap year.\".format(year))\n",
    "\n",
    "# Check if it's a century year or not\n",
    "if year % 100 == 0:\n",
    "    print(\"{} is a century year.\".format(year))\n",
    "else:\n",
    "    print(\"{} is not a century year.\".format(year))"
   ]
  },
  {
   "cell_type": "code",
   "execution_count": 20,
   "id": "ffec53a4-c01b-4040-8d7a-31ede7d888f5",
   "metadata": {},
   "outputs": [
    {
     "name": "stdin",
     "output_type": "stream",
     "text": [
      "Enter a number:  1\n"
     ]
    },
    {
     "name": "stdout",
     "output_type": "stream",
     "text": [
      "1.0 is a positive number.\n"
     ]
    }
   ],
   "source": [
    "#14. Write a Python script to determine if a number is positive, negative, or zero.\n",
    "# Get user input for the number\n",
    "number = float(input(\"Enter a number: \"))\n",
    "\n",
    "# Check if the number is positive, negative, or zero\n",
    "if number > 0:\n",
    "    print(\"{} is a positive number.\".format(number))\n",
    "elif number < 0:\n",
    "    print(\"{} is a negative number.\".format(number))\n",
    "else:\n",
    "    print(\"{} is zero.\".format(number))\n"
   ]
  },
  {
   "cell_type": "code",
   "execution_count": 22,
   "id": "9c0867d0-8f7e-48da-bc85-3e7a50342423",
   "metadata": {},
   "outputs": [
    {
     "name": "stdin",
     "output_type": "stream",
     "text": [
      "enter the age: 34\n"
     ]
    },
    {
     "name": "stdout",
     "output_type": "stream",
     "text": [
      " the person is not the teenager\n"
     ]
    }
   ],
   "source": [
    "#15. Create a program to check if a person is a teenager (between 13 and 19 years old).\n",
    "age = int(input(\"enter the age:\"))\n",
    "\n",
    "if 13 <= age <= 19:\n",
    "    print(\"the person is teenager\")\n",
    "else:\n",
    "    print(\" the person is not the teenager\")"
   ]
  },
  {
   "cell_type": "code",
   "execution_count": 23,
   "id": "e1909271-2ee5-438d-a221-7754d9e5f2f4",
   "metadata": {},
   "outputs": [
    {
     "name": "stdin",
     "output_type": "stream",
     "text": [
      "Enter the angle measure in degrees:  34\n"
     ]
    },
    {
     "name": "stdout",
     "output_type": "stream",
     "text": [
      "The angle is a acute angle.\n"
     ]
    }
   ],
   "source": [
    "#16. Develop a program that determines the type of angle based on its measure (acute, obtuse, or right).\n",
    "angle_measure = float(input(\"Enter the angle measure in degrees: \"))\n",
    "\n",
    "# Check the type of angle using if-else statements\n",
    "if 0 < angle_measure < 90:\n",
    "    angle_type = \"acute\"\n",
    "elif angle_measure == 90:\n",
    "    angle_type = \"right\"\n",
    "elif 90 < angle_measure < 180:\n",
    "    angle_type = \"obtuse\"\n",
    "else:\n",
    "    angle_type = \"invalid\"\n",
    "\n",
    "# Display the result\n",
    "if angle_type == \"invalid\":\n",
    "    print(\"Invalid angle measure. Please enter a measure between 0 and 180 degrees.\")\n",
    "else:\n",
    "    print(\"The angle is a {} angle.\".format(angle_type))"
   ]
  },
  {
   "cell_type": "code",
   "execution_count": 24,
   "id": "7aed6fbc-514f-4587-9a8f-2baa50b582aa",
   "metadata": {},
   "outputs": [
    {
     "name": "stdin",
     "output_type": "stream",
     "text": [
      "Enter the coefficient 'a':  23\n",
      "Enter the coefficient 'b':  23\n",
      "Enter the coefficient 'c':  23\n"
     ]
    },
    {
     "name": "stdout",
     "output_type": "stream",
     "text": [
      "The roots are complex conjugates.\n",
      "Root 1: -0.5 + 0.8660254037844387j\n",
      "Root 2: -0.5 - 0.8660254037844387j\n"
     ]
    }
   ],
   "source": [
    "#17. Write a Python program to calculate the roots of a quadratic equation.\n",
    "import math\n",
    "\n",
    "# Get user input for the coefficients of the quadratic equation (ax^2 + bx + c)\n",
    "a = float(input(\"Enter the coefficient 'a': \"))\n",
    "b = float(input(\"Enter the coefficient 'b': \"))\n",
    "c = float(input(\"Enter the coefficient 'c': \"))\n",
    "\n",
    "# Calculate the discriminant\n",
    "discriminant = b**2 - 4*a*c\n",
    "\n",
    "# Check the nature of the roots and calculate them\n",
    "if discriminant > 0:\n",
    "    root1 = (-b + math.sqrt(discriminant)) / (2*a)\n",
    "    root2 = (-b - math.sqrt(discriminant)) / (2*a)\n",
    "    print(\"The roots are real and distinct.\")\n",
    "    print(\"Root 1: {}\".format(root1))\n",
    "    print(\"Root 2: {}\".format(root2))\n",
    "elif discriminant == 0:\n",
    "    root = -b / (2*a)\n",
    "    print(\"The roots are real and identical.\")\n",
    "    print(\"Root: {}\".format(root))\n",
    "else:\n",
    "    real_part = -b / (2*a)\n",
    "    imaginary_part = math.sqrt(abs(discriminant)) / (2*a)\n",
    "    print(\"The roots are complex conjugates.\")\n",
    "    print(\"Root 1: {} + {}j\".format(real_part, imaginary_part))\n",
    "    print(\"Root 2: {} - {}j\".format(real_part, imaginary_part))\n"
   ]
  },
  {
   "cell_type": "code",
   "execution_count": 25,
   "id": "4fd06a8c-0aa0-4727-8f18-e18d8d748239",
   "metadata": {},
   "outputs": [
    {
     "name": "stdin",
     "output_type": "stream",
     "text": [
      "Enter a number (1 for Monday, 2 for Tuesday, etc.):  1\n"
     ]
    },
    {
     "name": "stdout",
     "output_type": "stream",
     "text": [
      "The day corresponding to 1 is: Monday\n"
     ]
    }
   ],
   "source": [
    "#18. Implement a program to determine the day of the week based on a user-provided number (1 for Monday, 2 for Tuesday, etc.).\n",
    "# Get user input for the day number\n",
    "day_number = int(input(\"Enter a number (1 for Monday, 2 for Tuesday, etc.): \"))\n",
    "\n",
    "# Check the day of the week using if-else statements\n",
    "if 1 <= day_number <= 7:\n",
    "    if day_number == 1:\n",
    "        day_of_week = \"Monday\"\n",
    "    elif day_number == 2:\n",
    "        day_of_week = \"Tuesday\"\n",
    "    elif day_number == 3:\n",
    "        day_of_week = \"Wednesday\"\n",
    "    elif day_number == 4:\n",
    "        day_of_week = \"Thursday\"\n",
    "    elif day_number == 5:\n",
    "        day_of_week = \"Friday\"\n",
    "    elif day_number == 6:\n",
    "        day_of_week = \"Saturday\"\n",
    "    else:\n",
    "        day_of_week = \"Sunday\"\n",
    "\n",
    "    print(\"The day corresponding to {} is: {}\".format(day_number, day_of_week))\n",
    "else:\n",
    "    print(\"Invalid input. Please enter a number between 1 and 7.\")\n"
   ]
  },
  {
   "cell_type": "code",
   "execution_count": 26,
   "id": "a6f1da21-bde0-4996-bb25-4aeb2570e44e",
   "metadata": {},
   "outputs": [
    {
     "name": "stdin",
     "output_type": "stream",
     "text": [
      "Enter a year:  3432\n"
     ]
    },
    {
     "name": "stdout",
     "output_type": "stream",
     "text": [
      "3432 is a leap year but not evenly divisible by 400.\n"
     ]
    }
   ],
   "source": [
    "#19. Create a program that determines if a year is a leap year and also if it is evenly divisible by 400.\n",
    "# Get user input for the year\n",
    "year = int(input(\"Enter a year: \"))\n",
    "\n",
    "# Check if it's a leap year or not, and if it's evenly divisible by 400\n",
    "is_leap_year = (year % 4 == 0 and year % 100 != 0) or (year % 400 == 0)\n",
    "is_divisible_by_400 = year % 400 == 0\n",
    "\n",
    "# Display the result\n",
    "if is_leap_year:\n",
    "    if is_divisible_by_400:\n",
    "        print(\"{} is a leap year and evenly divisible by 400.\".format(year))\n",
    "    else:\n",
    "        print(\"{} is a leap year but not evenly divisible by 400.\".format(year))\n",
    "else:\n",
    "    print(\"{} is not a leap year.\".format(year))\n"
   ]
  },
  {
   "cell_type": "code",
   "execution_count": 27,
   "id": "c7ea6037-dec7-433d-8dec-2c8beac818f0",
   "metadata": {},
   "outputs": [
    {
     "name": "stdin",
     "output_type": "stream",
     "text": [
      "Enter a number:  24\n"
     ]
    },
    {
     "name": "stdout",
     "output_type": "stream",
     "text": [
      "24 is not a prime number.\n"
     ]
    }
   ],
   "source": [
    "#20. Develop a program that checks if a given number is prime or not using nested if-else statements.\n",
    "# Get user input for the number\n",
    "number = int(input(\"Enter a number: \"))\n",
    "\n",
    "# Check if the number is prime or not\n",
    "if number > 1:\n",
    "    # Check for factors\n",
    "    for i in range(2, int(number**0.5) + 1):\n",
    "        if (number % i) == 0:\n",
    "            print(\"{} is not a prime number.\".format(number))\n",
    "            break\n",
    "    else:\n",
    "        print(\"{} is a prime number.\".format(number))\n",
    "else:\n",
    "    print(\"{} is not a prime number.\".format(number))\n"
   ]
  },
  {
   "cell_type": "code",
   "execution_count": 1,
   "id": "5e790335-a790-484e-9a08-60a59b493a95",
   "metadata": {},
   "outputs": [
    {
     "name": "stdin",
     "output_type": "stream",
     "text": [
      "Enter the student's score:  54\n"
     ]
    },
    {
     "name": "stdout",
     "output_type": "stream",
     "text": [
      "The student's grade is: F\n"
     ]
    }
   ],
   "source": [
    "#21. Write a Python program to assign grades based on different ranges of scores using elif statements.\n",
    "# Get user input for the score\n",
    "score = float(input(\"Enter the student's score: \"))\n",
    "\n",
    "# Assign grades based on different score ranges using elif statements\n",
    "if 90 <= score <= 100:\n",
    "    grade = 'A'\n",
    "elif 80 <= score < 90:\n",
    "    grade = 'B'\n",
    "elif 70 <= score < 80:\n",
    "    grade = 'C'\n",
    "elif 60 <= score < 70:\n",
    "    grade = 'D'\n",
    "elif 0 <= score < 60:\n",
    "    grade = 'F'\n",
    "else:\n",
    "    print(\"Invalid score. Please enter a score between 0 and 100.\")\n",
    "    exit()\n",
    "\n",
    "# Display the result\n",
    "print(\"The student's grade is: {}\".format(grade))\n"
   ]
  },
  {
   "cell_type": "code",
   "execution_count": null,
   "id": "e2eb250d-6ea8-4aed-bc0e-bad90ab92f28",
   "metadata": {},
   "outputs": [],
   "source": [
    "#22. Implement a program to determine the type of a triangle based on its angles.\n",
    "# Get user input for the angles of the triangle\n",
    "angle1 = float(input(\"Enter the first angle: \"))\n",
    "angle2 = float(input(\"Enter the second angle: \"))\n",
    "angle3 = float(input(\"Enter the third angle: \"))\n",
    "\n",
    "# Check the type of triangle based on angles using elif statements\n",
    "if angle1 + angle2 + angle3 == 180:\n",
    "    if angle1 == angle2 == angle3 == 60:\n",
    "        triangle_type = \"equilateral\"\n",
    "    elif angle1 == angle2 or angle1 == angle3 or angle2 == angle3:\n",
    "        triangle_type = \"isosceles\"\n",
    "    elif angle1 < 90 and angle2 < 90 and angle3 < 90:\n",
    "        triangle_type = \"acute\"\n",
    "    elif angle1 == 90 or angle2 == 90 or angle3 == 90:\n",
    "        triangle_type = \"right\"\n",
    "    else:\n",
    "        triangle_type = \"obtuse\"\n",
    "\n",
    "    print(\"The triangle is a {} triangle.\".format(triangle_type))\n",
    "else: \n",
    "    print(\"Invalid triangle. The sum of angles should be 180 degrees.\")\n"
   ]
  },
  {
   "cell_type": "code",
   "execution_count": 1,
   "id": "6810dec4-372c-487d-adad-21287d9b2c20",
   "metadata": {},
   "outputs": [
    {
     "name": "stdin",
     "output_type": "stream",
     "text": [
      "Enter weight in kilograms:  57\n",
      "Enter height in meters:  1.6\n"
     ]
    },
    {
     "name": "stdout",
     "output_type": "stream",
     "text": [
      "Your BMI is 22.27, and you are categorized as Normal.\n"
     ]
    }
   ],
   "source": [
    "#23. Develop a program to categorize a given person's BMI into underweight, normal, overweight, or obese using elif statements.\n",
    "try:\n",
    "    weight = float(input(\"Enter weight in kilograms: \"))\n",
    "    height = float(input(\"Enter height in meters: \"))\n",
    "    \n",
    "    if weight <= 0 or height <= 0:\n",
    "        print(\"Please enter valid weight and height.\")\n",
    "    else:\n",
    "        # BMI formula: weight (kg) / (height (m))^2\n",
    "        bmi = weight / (height ** 2)\n",
    "\n",
    "        # Categorize BMI\n",
    "        if bmi < 18.5:\n",
    "            category = \"Underweight\"\n",
    "        elif 18.5 <= bmi < 24.9:\n",
    "            category = \"Normal\"\n",
    "        elif 25 <= bmi < 29.9:\n",
    "            category = \"Overweight\"\n",
    "        else:\n",
    "            category = \"Obese\"\n",
    "\n",
    "        print(f\"Your BMI is {bmi:.2f}, and you are categorized as {category}.\")\n",
    "\n",
    "except ValueError:\n",
    "    print(\"Invalid input. Please enter numeric values for weight and height.\")\n"
   ]
  },
  {
   "cell_type": "code",
   "execution_count": 2,
   "id": "1504ec19-464f-4dee-9bd1-c13911d08059",
   "metadata": {},
   "outputs": [
    {
     "name": "stdin",
     "output_type": "stream",
     "text": [
      "Enter a number:  5\n"
     ]
    },
    {
     "name": "stdout",
     "output_type": "stream",
     "text": [
      "The number is positive.\n"
     ]
    }
   ],
   "source": [
    "#24. Create a program that determines whether a given number is positive, negative, or zero using elif statements.\n",
    "try:\n",
    "    number = float(input(\"Enter a number: \"))\n",
    "\n",
    "    if number > 0:\n",
    "        print(\"The number is positive.\")\n",
    "    elif number < 0:\n",
    "        print(\"The number is negative.\")\n",
    "    else:\n",
    "        print(\"The number is zero.\")\n",
    "\n",
    "except ValueError:\n",
    "    print(\"Invalid input. Please enter a numeric value.\")\n"
   ]
  },
  {
   "cell_type": "code",
   "execution_count": 4,
   "id": "5f55f7db-0bc1-4c67-9b43-6b16cb0b9c87",
   "metadata": {},
   "outputs": [
    {
     "name": "stdin",
     "output_type": "stream",
     "text": [
      "Enter a character:  r\n"
     ]
    },
    {
     "name": "stdout",
     "output_type": "stream",
     "text": [
      "The character is lowercase.\n"
     ]
    }
   ],
   "source": [
    "#25. Write a Python script to determine the type of a character (uppercase, lowercase, or special) using elif statements.\n",
    "\n",
    "char = input(\"Enter a character: \")\n",
    "\n",
    "if len(char) == 1:\n",
    "    if char.isupper():\n",
    "        print(\"The character is uppercase.\")\n",
    "    elif char.islower():\n",
    "        print(\"The character is lowercase.\")\n",
    "    else:\n",
    "        print(\"The character is a special character.\")\n",
    "else:\n",
    "    print(\"Please enter a single character.\")\n"
   ]
  },
  {
   "cell_type": "code",
   "execution_count": 5,
   "id": "faf62168-faed-4a03-b66f-7fbdb7621106",
   "metadata": {},
   "outputs": [
    {
     "name": "stdin",
     "output_type": "stream",
     "text": [
      "Enter the purchase amount:  4\n"
     ]
    },
    {
     "name": "stdout",
     "output_type": "stream",
     "text": [
      "Discounted price: $4.00 (with 0% discount)\n"
     ]
    }
   ],
   "source": [
    "#26. Implement a program to calculate the discounted price based on different purchase amounts using elif statements.\n",
    "purchase_amount = input(\"Enter the purchase amount: \")\n",
    "\n",
    "if purchase_amount.replace('.', '', 1).isdigit():\n",
    "    purchase_amount = float(purchase_amount)\n",
    "\n",
    "    if purchase_amount < 0:\n",
    "        print(\"Please enter a valid positive purchase amount.\")\n",
    "    else:\n",
    "        # Discount calculation based on purchase amount\n",
    "        if purchase_amount < 50:\n",
    "            discount = 0\n",
    "        elif purchase_amount < 100:\n",
    "            discount = 0.05\n",
    "        elif purchase_amount < 200:\n",
    "            discount = 0.1\n",
    "        else:\n",
    "            discount = 0.15\n",
    "\n",
    "        discounted_price = purchase_amount - (purchase_amount * discount)\n",
    "\n",
    "        print(f\"Discounted price: ${discounted_price:.2f} (with {discount*100}% discount)\")\n",
    "else:\n",
    "    print(\"Invalid input. Please enter a numeric value for the purchase amount.\")\n"
   ]
  },
  {
   "cell_type": "code",
   "execution_count": 6,
   "id": "7fcb3b7d-7af5-409b-a7c9-a111f9bc44f8",
   "metadata": {},
   "outputs": [
    {
     "name": "stdin",
     "output_type": "stream",
     "text": [
      "Enter the units of electricity consumed:  89\n"
     ]
    },
    {
     "name": "stdout",
     "output_type": "stream",
     "text": [
      "The electricity bill is: $281.00\n"
     ]
    }
   ],
   "source": [
    "#27. Develop a program to calculate the electricity bill based on different consumption slabs using elif statements.\n",
    "\n",
    "units_consumed = input(\"Enter the units of electricity consumed: \")\n",
    "\n",
    "if units_consumed.replace('.', '', 1).isdigit():\n",
    "    units_consumed = float(units_consumed)\n",
    "\n",
    "    if units_consumed < 0:\n",
    "        print(\"Please enter a valid positive value for units consumed.\")\n",
    "    else:\n",
    "        # Electricity bill calculation based on consumption slabs\n",
    "        if units_consumed <= 50:\n",
    "            bill_amount = units_consumed * 2.50\n",
    "        elif units_consumed <= 150:\n",
    "            bill_amount = 50 * 2.50 + (units_consumed - 50) * 4.00\n",
    "        elif units_consumed <= 300:\n",
    "            bill_amount = 50 * 2.50 + 100 * 4.00 + (units_consumed - 150) * 5.20\n",
    "        else:\n",
    "            bill_amount = 50 * 2.50 + 100 * 4.00 + 150 * 5.20 + (units_consumed - 300) * 6.50\n",
    "\n",
    "        print(f\"The electricity bill is: ${bill_amount:.2f}\")\n",
    "else:\n",
    "    print(\"Invalid input. Please enter a numeric value for units consumed.\")\n"
   ]
  },
  {
   "cell_type": "code",
   "execution_count": 9,
   "id": "df237f7a-cf3f-4e57-a06d-9da45cb47f66",
   "metadata": {},
   "outputs": [
    {
     "name": "stdin",
     "output_type": "stream",
     "text": [
      "Enter the first angle:  90\n",
      "Enter the second angle:  90\n",
      "Enter the third angle:  90\n",
      "Enter the fourth angle:  90\n",
      "Enter the length of the first side:  25\n",
      "Enter the length of the second side:  25\n",
      "Enter the length of the third side:  25\n",
      "Enter the length of the fourth side:  25\n"
     ]
    },
    {
     "name": "stdout",
     "output_type": "stream",
     "text": [
      "The given quadrilateral is a Square.\n"
     ]
    }
   ],
   "source": [
    "#28. Create a program to determine the type of quadrilateral based on its angles and sides using elif statements.\n",
    "\n",
    "def is_quadrilateral(angle1, angle2, angle3, angle4, side1, side2, side3, side4):\n",
    "    if angle1 + angle2 + angle3 + angle4 == 360:\n",
    "        if side1 == side2 == side3 == side4:\n",
    "            return \"Square\"\n",
    "        elif side1 == side3 and side2 == side4:\n",
    "            if angle1 == angle3 and angle2 == angle4:\n",
    "                return \"Rectangle\"\n",
    "            else:\n",
    "                return \"Rhombus\"\n",
    "        elif side1 == side3 or side2 == side4:\n",
    "            return \"Parallelogram\"\n",
    "        else:\n",
    "            return \"Quadrilateral\"\n",
    "    else:\n",
    "        return \"Invalid Quadrilateral\"\n",
    "\n",
    "def main():\n",
    "    try:\n",
    "        angle1 = float(input(\"Enter the first angle: \"))\n",
    "        angle2 = float(input(\"Enter the second angle: \"))\n",
    "        angle3 = float(input(\"Enter the third angle: \"))\n",
    "        angle4 = float(input(\"Enter the fourth angle: \"))\n",
    "        side1 = float(input(\"Enter the length of the first side: \"))\n",
    "        side2 = float(input(\"Enter the length of the second side: \"))\n",
    "        side3 = float(input(\"Enter the length of the third side: \"))\n",
    "        side4 = float(input(\"Enter the length of the fourth side: \"))\n",
    "\n",
    "        quad_type = is_quadrilateral(angle1, angle2, angle3, angle4, side1, side2, side3, side4)\n",
    "        print(f\"The given quadrilateral is a {quad_type}.\")\n",
    "\n",
    "    except ValueError:\n",
    "        print(\"Invalid input. Please enter numeric values for angles and sides.\")\n",
    "\n",
    "if __name__ == \"__main__\":\n",
    "    main()\n"
   ]
  },
  {
   "cell_type": "code",
   "execution_count": 10,
   "id": "fe1fb53d-dd1c-44b4-b68e-ecb8fb201d05",
   "metadata": {},
   "outputs": [
    {
     "name": "stdin",
     "output_type": "stream",
     "text": [
      "Enter the month (1-12):  5\n"
     ]
    },
    {
     "name": "stdout",
     "output_type": "stream",
     "text": [
      "The season for month 5 is Spring.\n"
     ]
    }
   ],
   "source": [
    "#29. Write a Python script to determine the season based on a user-provided month using elif statements.\n",
    "month_input = input(\"Enter the month (1-12): \")\n",
    "\n",
    "if month_input.isdigit():\n",
    "    month = int(month_input)\n",
    "\n",
    "    if 1 <= month <= 12:\n",
    "        if 3 <= month <= 5:\n",
    "            season = \"Spring\"\n",
    "        elif 6 <= month <= 8:\n",
    "            season = \"Summer\"\n",
    "        elif 9 <= month <= 11:\n",
    "            season = \"Fall\"\n",
    "        else:\n",
    "            season = \"Winter\"\n",
    "\n",
    "        print(f\"The season for month {month} is {season}.\")\n",
    "    else:\n",
    "        print(\"Invalid month. Please enter a number between 1 and 12.\")\n",
    "else:\n",
    "    print(\"Invalid input. Please enter a numeric value for the month.\")\n"
   ]
  },
  {
   "cell_type": "code",
   "execution_count": 11,
   "id": "9b16d92c-1863-41ca-aa7a-026cbdc205fc",
   "metadata": {},
   "outputs": [
    {
     "name": "stdin",
     "output_type": "stream",
     "text": [
      "Enter the year:  2000\n",
      "Enter the month (1-12):  7\n"
     ]
    },
    {
     "name": "stdout",
     "output_type": "stream",
     "text": [
      "The year 2000 is a Leap year, and the month 7 has 31 days.\n"
     ]
    }
   ],
   "source": [
    "#30. Implement a program to determine the type of a year (leap or common) and month (30 or 31 days) using elif statements.\n",
    "\n",
    "def is_leap_year(year):\n",
    "    if (year % 4 == 0 and year % 100 != 0) or (year % 400 == 0):\n",
    "        return True\n",
    "    else:\n",
    "        return False\n",
    "\n",
    "def days_in_month(month, year):\n",
    "    if month in [1, 3, 5, 7, 8, 10, 12]:\n",
    "        return 31\n",
    "    elif month in [4, 6, 9, 11]:\n",
    "        return 30\n",
    "    elif month == 2:\n",
    "        if is_leap_year(year):\n",
    "            return 29\n",
    "        else:\n",
    "            return 28\n",
    "    else:\n",
    "        return -1\n",
    "\n",
    "def main():\n",
    "    try:\n",
    "        year = int(input(\"Enter the year: \"))\n",
    "        month = int(input(\"Enter the month (1-12): \"))\n",
    "\n",
    "        if 1 <= month <= 12:\n",
    "            if is_leap_year(year):\n",
    "                year_type = \"Leap\"\n",
    "            else:\n",
    "                year_type = \"Common\"\n",
    "\n",
    "            num_days = days_in_month(month, year)\n",
    "            if num_days == -1:\n",
    "                print(\"Invalid month. Please enter a number between 1 and 12.\")\n",
    "            else:\n",
    "                print(f\"The year {year} is a {year_type} year, and the month {month} has {num_days} days.\")\n",
    "        else:\n",
    "            print(\"Invalid month. Please enter a number between 1 and 12.\")\n",
    "\n",
    "    except ValueError:\n",
    "        print(\"Invalid input. Please enter numeric values for year and month.\")\n",
    "\n",
    "if __name__ == \"__main__\":\n",
    "    main()\n",
    "\n",
    "    "
   ]
  },
  {
   "cell_type": "code",
   "execution_count": 16,
   "id": "e93ae91f-d604-4fe4-a340-6b6f2b6bc09f",
   "metadata": {},
   "outputs": [
    {
     "name": "stdin",
     "output_type": "stream",
     "text": [
      "enter the number: 1\n"
     ]
    },
    {
     "name": "stdout",
     "output_type": "stream",
     "text": [
      "entered number is positive\n"
     ]
    }
   ],
   "source": [
    "#1Write a Python program that checks if a given number is positive, negative, or zero.\n",
    "\n",
    "number = float(input(\"enter the number:\"))\n",
    "\n",
    "if number > 0:\n",
    "    print('entered number is positive')\n",
    "elif number < 0:\n",
    "    print('enterd number is negative')\n",
    "elif number ==0:\n",
    "    print('enterd number is zero')\n",
    "    \n",
    "else:\n",
    "    pass"
   ]
  },
  {
   "cell_type": "code",
   "execution_count": 17,
   "id": "8519f86c-5fe9-49d5-8773-adb9f6add471",
   "metadata": {},
   "outputs": [
    {
     "name": "stdin",
     "output_type": "stream",
     "text": [
      "enter the age:  23\n"
     ]
    },
    {
     "name": "stdout",
     "output_type": "stream",
     "text": [
      "Person is eligible for voting\n"
     ]
    }
   ],
   "source": [
    "#2. Create a program to determine if a person is eligible to vote based on their age.\n",
    "person = int(input(\"enter the age: \"))\n",
    "\n",
    "if person>=18:\n",
    "    print(\"Person is eligible for voting\")\n",
    "else:\n",
    "    print(\"person is not eligible for voting\")"
   ]
  },
  {
   "cell_type": "code",
   "execution_count": 18,
   "id": "77e279b4-5b19-4fc6-9ae3-b733284fd6ef",
   "metadata": {},
   "outputs": [
    {
     "name": "stdin",
     "output_type": "stream",
     "text": [
      "enter the number: 43\n",
      "enter the numbetr: 32\n"
     ]
    },
    {
     "name": "stdout",
     "output_type": "stream",
     "text": [
      "The maximum of 43.0 and 32.0 is: 43.0\n"
     ]
    }
   ],
   "source": [
    "#3. Write a program to find the maximum of two given numbers using conditional statements.\n",
    "num1 = float(input(\"enter the number:\"))\n",
    "num2 = float(input(\"enter the numbetr:\"))\n",
    "\n",
    "if num1>num2:\n",
    "    max_num = num1\n",
    "else:\n",
    "    max_num = num2\n",
    "    \n",
    "print(\"The maximum of {} and {} is: {}\".format(num1, num2, max_num))"
   ]
  },
  {
   "cell_type": "code",
   "execution_count": 19,
   "id": "6bd9b3d9-e2c8-4e58-9b25-acfe9b94dd1d",
   "metadata": {},
   "outputs": [
    {
     "name": "stdin",
     "output_type": "stream",
     "text": [
      "Enter the student's score:  65\n"
     ]
    },
    {
     "name": "stdout",
     "output_type": "stream",
     "text": [
      "The student's grade is: D\n"
     ]
    }
   ],
   "source": [
    "#4. Develop a program that calculates the grade of a student based on their exam score.\n",
    "score = float(input(\"Enter the student's score: \"))\n",
    "\n",
    "# Determine the grade based on the score\n",
    "if 90 <= score <= 100:\n",
    "    grade = 'A'\n",
    "elif 80 <= score < 90:\n",
    "    grade = 'B'\n",
    "elif 70 <= score < 80:\n",
    "    grade = 'C'\n",
    "elif 60 <= score < 70:\n",
    "    grade = 'D'\n",
    "elif 0 <= score < 60:\n",
    "    grade = 'F'\n",
    "else:\n",
    "    print(\"Invalid score. Please enter a score between 0 and 100.\")\n",
    "    exit()\n",
    "\n",
    "# Display the result\n",
    "print(\"The student's grade is: {}\".format(grade))\n"
   ]
  },
  {
   "cell_type": "code",
   "execution_count": 21,
   "id": "61db4b85-073f-441c-bf54-d982d3fa76ec",
   "metadata": {},
   "outputs": [
    {
     "name": "stdin",
     "output_type": "stream",
     "text": [
      "enter the year: 6443\n"
     ]
    },
    {
     "name": "stdout",
     "output_type": "stream",
     "text": [
      "6443 is not a leap year.\n"
     ]
    }
   ],
   "source": [
    "#5. Create a program that checks if a year is a leap year or not.\n",
    "\n",
    "year = int(input(\"enter the year:\"))\n",
    "\n",
    "if (year % 4 == 0 and year % 100 != 0) or (year % 400 == 0):\n",
    "    print(\"{} is a leap year.\".format(year))\n",
    "else:\n",
    "    print(\"{} is not a leap year.\".format(year))"
   ]
  },
  {
   "cell_type": "code",
   "execution_count": 3,
   "id": "aa557a48-d58e-43ea-9ccd-58cbb38331c6",
   "metadata": {},
   "outputs": [
    {
     "name": "stdin",
     "output_type": "stream",
     "text": [
      "Enter the length of side 1:  120\n",
      "Enter the length of side 2:  120\n",
      "Enter the length of side 3:  120\n"
     ]
    },
    {
     "name": "stdout",
     "output_type": "stream",
     "text": [
      "The triangle is Equilateral triangle\n"
     ]
    }
   ],
   "source": [
    "#6. Write a program to classify a triangle based on its sides' lengths.\n",
    "def classify_triangle(side1, side2, side3):\n",
    "    if side1 + side2 <= side3 or side1 + side3 <= side2 or side2 + side3 <= side1:\n",
    "        return \"Not a triangle\"\n",
    "    elif side1 == side2 == side3:\n",
    "        return \"Equilateral triangle\"\n",
    "    elif side1 == side2 or side1 == side3 or side2 == side3:\n",
    "        return \"Isosceles triangle\"\n",
    "    else:\n",
    "        return \"Scalene triangle\"\n",
    "\n",
    "# Input sides of the triangle\n",
    "side1 = float(input(\"Enter the length of side 1: \"))\n",
    "side2 = float(input(\"Enter the length of side 2: \"))\n",
    "side3 = float(input(\"Enter the length of side 3: \"))\n",
    "\n",
    "# Classify the triangle and print the result\n",
    "triangle_type = classify_triangle(side1, side2, side3)\n",
    "print(f\"The triangle is {triangle_type}\")\n"
   ]
  },
  {
   "cell_type": "code",
   "execution_count": 4,
   "id": "26f37f30-099c-4157-9619-a9bf5cfdd8fb",
   "metadata": {},
   "outputs": [
    {
     "name": "stdin",
     "output_type": "stream",
     "text": [
      "Enter the first number:  4\n",
      "Enter the second number:  5\n",
      "Enter the third number:  6\n"
     ]
    },
    {
     "name": "stdout",
     "output_type": "stream",
     "text": [
      "The largest of 4.0, 5.0, and 6.0 is: 6.0\n"
     ]
    }
   ],
   "source": [
    "#7. Build a program that determines the largest of three given numbers.\n",
    "num1 = float(input(\"Enter the first number: \"))\n",
    "num2 = float(input(\"Enter the second number: \"))\n",
    "num3 = float(input(\"Enter the third number: \"))\n",
    "\n",
    "# Compare the three numbers and find the largest\n",
    "if num1 >= num2 and num1 >= num3:\n",
    "    largest = num1\n",
    "elif num2 >= num1 and num2 >= num3:\n",
    "    largest = num2\n",
    "else:\n",
    "    largest = num3\n",
    "\n",
    "# Display the result\n",
    "print(\"The largest of {}, {}, and {} is: {}\".format(num1, num2, num3, largest))"
   ]
  },
  {
   "cell_type": "code",
   "execution_count": 5,
   "id": "953c93e1-ff46-4cc8-92b5-69432e31930f",
   "metadata": {},
   "outputs": [
    {
     "name": "stdin",
     "output_type": "stream",
     "text": [
      "Enter a character:  a\n"
     ]
    },
    {
     "name": "stdout",
     "output_type": "stream",
     "text": [
      "a is a vowel.\n"
     ]
    }
   ],
   "source": [
    "#8. Develop a program that checks whether a character is a vowel or a consonant.\n",
    "char = input(\"Enter a character: \")\n",
    "\n",
    "# Check if it's a vowel or a consonant\n",
    "if char.isalpha() and len(char) == 1:\n",
    "    char_lower = char.lower()  # Convert to lowercase for case-insensitivity\n",
    "    if char_lower in ['a', 'e', 'i', 'o', 'u']:\n",
    "        print(\"{} is a vowel.\".format(char))\n",
    "    else:\n",
    "        print(\"{} is a consonant.\".format(char))\n",
    "else:\n",
    "    print(\"Please enter a valid single character.\")\n"
   ]
  },
  {
   "cell_type": "code",
   "execution_count": 7,
   "id": "df5111c3-8b6a-4221-9a26-9a7be373b412",
   "metadata": {},
   "outputs": [
    {
     "name": "stdout",
     "output_type": "stream",
     "text": [
      "The total cost of the shopping cart is: $101.50\n"
     ]
    }
   ],
   "source": [
    "#9. Create a program to calculate the total cost of a shopping cart based on discounts.\n",
    "\n",
    "def calculate_total_cost(cart_items):\n",
    "    total_cost = 0\n",
    "\n",
    "    for item in cart_items:\n",
    "        item_name = item['name']\n",
    "        item_price = item['price']\n",
    "        item_quantity = item['quantity']\n",
    "\n",
    "        # Calculate total cost for each item\n",
    "        item_total = item_price * item_quantity\n",
    "\n",
    "        # Apply discount based on conditions (you can customize these as needed)\n",
    "        if item_quantity >= 5:\n",
    "            item_total *= 0.9  # 10% discount for buying 5 or more items\n",
    "\n",
    "        # Add item total to the overall cost\n",
    "        total_cost += item_total\n",
    "\n",
    "    return total_cost\n",
    "\n",
    "# Example shopping cart items (name, price, quantity)\n",
    "cart_items = [\n",
    "    {'name': 'Item1', 'price': 10, 'quantity': 3},\n",
    "    {'name': 'Item2', 'price': 20, 'quantity': 2},\n",
    "    {'name': 'Item3', 'price': 5, 'quantity': 7},\n",
    "]\n",
    "\n",
    "# Calculate the total cost and print the result\n",
    "total_cost = calculate_total_cost(cart_items)\n",
    "print(f'The total cost of the shopping cart is: ${total_cost:.2f}')\n"
   ]
  },
  {
   "cell_type": "code",
   "execution_count": 8,
   "id": "f774d69b-ef3b-4fa9-9435-a1afd1482966",
   "metadata": {},
   "outputs": [
    {
     "name": "stdin",
     "output_type": "stream",
     "text": [
      "enter the number: 3\n"
     ]
    },
    {
     "name": "stdout",
     "output_type": "stream",
     "text": [
      "enterd number is odd\n"
     ]
    }
   ],
   "source": [
    "#10. Write a program that checks if a given number is even or odd.\n",
    "num = float(input(\"enter the number:\"))\n",
    "\n",
    "if num %2 == 0:\n",
    "    print(\"enterd number is even\")\n",
    "else:\n",
    "    print(\"enterd number is odd\")"
   ]
  },
  {
   "cell_type": "code",
   "execution_count": 9,
   "id": "ff5d22df-665a-4ae1-94cb-b18fb799d1b9",
   "metadata": {},
   "outputs": [
    {
     "name": "stdin",
     "output_type": "stream",
     "text": [
      "Enter the coefficient a:  2\n",
      "Enter the coefficient b:  3\n",
      "Enter the coefficient c:  2\n"
     ]
    },
    {
     "name": "stdout",
     "output_type": "stream",
     "text": [
      "The roots of the quadratic equation are: (-0.75+0.6614378277661477j) and (-0.75-0.6614378277661477j)\n"
     ]
    }
   ],
   "source": [
    "#11. Write a program that calculates the roots of a quadratic equation .\n",
    "\n",
    "import cmath  # Importing the complex math module for handling complex roots\n",
    "\n",
    "# Input coefficients of the quadratic equation\n",
    "a = float(input(\"Enter the coefficient a: \"))\n",
    "b = float(input(\"Enter the coefficient b: \"))\n",
    "c = float(input(\"Enter the coefficient c: \"))\n",
    "\n",
    "# Calculate the discriminant\n",
    "discriminant = b**2 - 4*a*c\n",
    "\n",
    "# Check the nature of the roots\n",
    "if discriminant > 0:\n",
    "    # Real and different roots\n",
    "    root1 = (-b + (discriminant ** 0.5)) / (2 * a)\n",
    "    root2 = (-b - (discriminant ** 0.5)) / (2 * a)\n",
    "    print(\"The roots of the quadratic equation are:\", root1, \"and\", root2)\n",
    "elif discriminant == 0:\n",
    "    # Real and identical roots (double root)\n",
    "    root = -b / (2 * a)\n",
    "    print(\"The root of the quadratic equation is:\", root)\n",
    "else:\n",
    "    # Complex roots\n",
    "    root1 = (-b + cmath.sqrt(discriminant)) / (2 * a)\n",
    "    root2 = (-b - cmath.sqrt(discriminant)) / (2 * a)\n",
    "    print(\"The roots of the quadratic equation are:\", root1, \"and\", root2)\n"
   ]
  },
  {
   "cell_type": "code",
   "execution_count": 10,
   "id": "5c4f8871-7654-4902-9cf6-e9021980879e",
   "metadata": {},
   "outputs": [
    {
     "name": "stdin",
     "output_type": "stream",
     "text": [
      "Enter the day number (1-7):  5\n"
     ]
    },
    {
     "name": "stdout",
     "output_type": "stream",
     "text": [
      "The day of the week for day number 5 is Friday.\n"
     ]
    }
   ],
   "source": [
    "#12. Create a program that determines the day of the week based on the day number (1-7).\n",
    "# Input the day number (1-7)\n",
    "day_number = int(input(\"Enter the day number (1-7): \"))\n",
    "\n",
    "# Determine the day of the week\n",
    "if 1 <= day_number <= 7:\n",
    "    if day_number == 1:\n",
    "        day_name = \"Monday\"\n",
    "    elif day_number == 2:\n",
    "        day_name = \"Tuesday\"\n",
    "    elif day_number == 3:\n",
    "        day_name = \"Wednesday\"\n",
    "    elif day_number == 4:\n",
    "        day_name = \"Thursday\"\n",
    "    elif day_number == 5:\n",
    "        day_name = \"Friday\"\n",
    "    elif day_number == 6:\n",
    "        day_name = \"Saturday\"\n",
    "    else:\n",
    "        day_name = \"Sunday\"\n",
    "\n",
    "    print(f\"The day of the week for day number {day_number} is {day_name}.\")\n",
    "else:\n",
    "    print(\"Invalid day number. Please enter a number between 1 and 7.\")\n"
   ]
  },
  {
   "cell_type": "code",
   "execution_count": 11,
   "id": "fb4589c6-82bc-449f-9e9f-6a1803d1e183",
   "metadata": {},
   "outputs": [
    {
     "name": "stdin",
     "output_type": "stream",
     "text": [
      "Enter a non-negative integer to calculate its factorial:  5\n"
     ]
    },
    {
     "name": "stdout",
     "output_type": "stream",
     "text": [
      "The factorial of 5 is: 120\n"
     ]
    }
   ],
   "source": [
    "#13. Develop a program that calculates the factorial of a given number using recursion.\n",
    "def calculate_factorial(n):\n",
    "    if n == 0 or n == 1:\n",
    "        return 1\n",
    "    else:\n",
    "        return n * calculate_factorial(n - 1)\n",
    "\n",
    "# Input the number for which factorial needs to be calculated\n",
    "num = int(input(\"Enter a non-negative integer to calculate its factorial: \"))\n",
    "\n",
    "# Check if the input is non-negative\n",
    "if num < 0:\n",
    "    print(\"Please enter a non-negative integer.\")\n",
    "else:\n",
    "    factorial_result = calculate_factorial(num)\n",
    "    print(f\"The factorial of {num} is: {factorial_result}\")\n"
   ]
  },
  {
   "cell_type": "code",
   "execution_count": 1,
   "id": "d7ce7c5c-6b92-487b-aaf9-263f32e807e6",
   "metadata": {},
   "outputs": [
    {
     "name": "stdin",
     "output_type": "stream",
     "text": [
      "Enter the first number:  3\n",
      "Enter the second number:  4\n",
      "Enter the third number:  5\n"
     ]
    },
    {
     "name": "stdout",
     "output_type": "stream",
     "text": [
      "The largest number among 3.0, 4.0, and 5.0 is: 5.0\n"
     ]
    }
   ],
   "source": [
    "#14. Write a program to find the largest among three numbers without using the `max()` function.\n",
    "# Input three numbers\n",
    "num1 = float(input(\"Enter the first number: \"))\n",
    "num2 = float(input(\"Enter the second number: \"))\n",
    "num3 = float(input(\"Enter the third number: \"))\n",
    "\n",
    "# Use the max() function to find the largest number\n",
    "largest = max(num1, num2, num3)\n",
    "\n",
    "# Print the result\n",
    "print(f\"The largest number among {num1}, {num2}, and {num3} is: {largest}\")\n"
   ]
  },
  {
   "cell_type": "code",
   "execution_count": null,
   "id": "cea0a82c-2ad6-454d-9058-ce3de545ddd7",
   "metadata": {},
   "outputs": [
    {
     "name": "stdout",
     "output_type": "stream",
     "text": [
      "\n",
      "**** ATM Transaction Menu ****\n",
      "1. Check Balance\n",
      "2. Deposit\n",
      "3. Withdraw\n",
      "4. Quit\n"
     ]
    },
    {
     "name": "stdin",
     "output_type": "stream",
     "text": [
      "\n",
      "Enter your choice (1-4):  3\n",
      "\n",
      "Enter the withdrawal amount: $ 2000\n"
     ]
    },
    {
     "name": "stdout",
     "output_type": "stream",
     "text": [
      "Insufficient funds! Withdrawal unsuccessful.\n",
      "\n",
      "**** ATM Transaction Menu ****\n",
      "1. Check Balance\n",
      "2. Deposit\n",
      "3. Withdraw\n",
      "4. Quit\n"
     ]
    },
    {
     "name": "stdin",
     "output_type": "stream",
     "text": [
      "\n",
      "Enter your choice (1-4):  2\n",
      "\n",
      "Enter the deposit amount: $ 200\n"
     ]
    },
    {
     "name": "stdout",
     "output_type": "stream",
     "text": [
      "Deposit successful! Your new balance is: $1200.00\n",
      "\n",
      "**** ATM Transaction Menu ****\n",
      "1. Check Balance\n",
      "2. Deposit\n",
      "3. Withdraw\n",
      "4. Quit\n"
     ]
    }
   ],
   "source": [
    "#15. Create a program that simulates a basic ATM transaction menu.\n",
    "# Initial account balance\n",
    "account_balance = 1000.00\n",
    "\n",
    "# Function to display the ATM menu\n",
    "def display_menu():\n",
    "    print(\"\\n**** ATM Transaction Menu ****\")\n",
    "    print(\"1. Check Balance\")\n",
    "    print(\"2. Deposit\")\n",
    "    print(\"3. Withdraw\")\n",
    "    print(\"4. Quit\")\n",
    "\n",
    "# Function to check account balance\n",
    "def check_balance():\n",
    "    print(f\"\\nYour account balance is: ${account_balance:.2f}\")\n",
    "\n",
    "# Function to deposit money\n",
    "def deposit():\n",
    "    global account_balance\n",
    "    amount = float(input(\"\\nEnter the deposit amount: $\"))\n",
    "    account_balance += amount\n",
    "    print(f\"Deposit successful! Your new balance is: ${account_balance:.2f}\")\n",
    "\n",
    "# Function to withdraw money\n",
    "def withdraw():\n",
    "    global account_balance\n",
    "    amount = float(input(\"\\nEnter the withdrawal amount: $\"))\n",
    "    if amount <= account_balance:\n",
    "        account_balance -= amount\n",
    "        print(f\"Withdrawal successful! Your new balance is: ${account_balance:.2f}\")\n",
    "    else:\n",
    "        print(\"Insufficient funds! Withdrawal unsuccessful.\")\n",
    "\n",
    "# Main program loop\n",
    "while True:\n",
    "    display_menu()\n",
    "    choice = input(\"\\nEnter your choice (1-4): \")\n",
    "\n",
    "    if choice == '1':\n",
    "        check_balance()\n",
    "    elif choice == '2':\n",
    "        deposit()\n",
    "    elif choice == '3':\n",
    "        withdraw()\n",
    "    elif choice == '4':\n",
    "        print(\"Thank you for using the ATM. Have a great day!\")\n",
    "        break\n",
    "    else:\n",
    "        print(\"Invalid choice. Please enter a number between 1 and 4.\")\n"
   ]
  },
  {
   "cell_type": "code",
   "execution_count": 1,
   "id": "c690bb3b-7cf2-4eb8-8bda-47374e34171a",
   "metadata": {},
   "outputs": [
    {
     "name": "stdin",
     "output_type": "stream",
     "text": [
      "Enter a string:  sas\n"
     ]
    },
    {
     "name": "stdout",
     "output_type": "stream",
     "text": [
      "sas is a palindrome.\n"
     ]
    }
   ],
   "source": [
    "#16. Build a program that checks if a given string is a palindrome or not.\n",
    "def is_palindrome(s):\n",
    "    s = s.replace(\" \", \"\").lower()\n",
    "    \n",
    "    # Check if the string is equal to its reverse\n",
    "    return s == s[::-1]\n",
    "\n",
    "# Get user input for a string\n",
    "input_string = input(\"Enter a string: \")\n",
    "\n",
    "# Check and print if the string is a palindrome or not\n",
    "if is_palindrome(input_string):\n",
    "    print(\"{} is a palindrome.\".format(input_string))\n",
    "else:\n",
    "    print(\"{} is not a palindrome.\".format(input_string))\n"
   ]
  },
  {
   "cell_type": "code",
   "execution_count": 2,
   "id": "e8c8aabd-e76b-4eff-82e3-a1566afb26c1",
   "metadata": {},
   "outputs": [
    {
     "name": "stdin",
     "output_type": "stream",
     "text": [
      "Enter a list of numbers separated by spaces:  2 4 5\n"
     ]
    },
    {
     "name": "stdout",
     "output_type": "stream",
     "text": [
      "The average (excluding the smallest and largest values) is: 4.00\n"
     ]
    }
   ],
   "source": [
    "#17. Write a program that calculates the average of a list of numbers, excluding the smallest and largest values.\n",
    "# Input a list of numbers\n",
    "numbers = [float(x) for x in input(\"Enter a list of numbers separated by spaces: \").split()]\n",
    "\n",
    "# Check if the list has at least three elements\n",
    "if len(numbers) >= 3:\n",
    "    # Exclude the smallest and largest values\n",
    "    numbers.sort()\n",
    "    excluded_numbers = numbers[1:-1]\n",
    "\n",
    "    # Calculate the average\n",
    "    average = sum(excluded_numbers) / len(excluded_numbers)\n",
    "\n",
    "    print(f\"The average (excluding the smallest and largest values) is: {average:.2f}\")\n",
    "else:\n",
    "    print(\"Please enter at least three numbers to calculate the average.\")\n"
   ]
  },
  {
   "cell_type": "code",
   "execution_count": 3,
   "id": "d675b0b9-eb1c-4097-9d41-d239ffc3608c",
   "metadata": {},
   "outputs": [
    {
     "name": "stdin",
     "output_type": "stream",
     "text": [
      "Enter the temperature in Celsius:  32\n"
     ]
    },
    {
     "name": "stdout",
     "output_type": "stream",
     "text": [
      "32.0 degrees Celsius is equal to 89.60 degrees Fahrenheit.\n"
     ]
    }
   ],
   "source": [
    "#18. Develop a program that converts a given temperature from Celsius to Fahrenheit.\n",
    "# Input temperature in Celsius\n",
    "celsius_temperature = float(input(\"Enter the temperature in Celsius: \"))\n",
    "\n",
    "# Convert Celsius to Fahrenheit\n",
    "fahrenheit_temperature = (celsius_temperature * 9/5) + 32\n",
    "\n",
    "# Print the result\n",
    "print(f\"{celsius_temperature} degrees Celsius is equal to {fahrenheit_temperature:.2f} degrees Fahrenheit.\")\n"
   ]
  },
  {
   "cell_type": "code",
   "execution_count": 4,
   "id": "5f6f4c15-32bc-4476-9579-e29667dc72c2",
   "metadata": {},
   "outputs": [
    {
     "name": "stdout",
     "output_type": "stream",
     "text": [
      "**** Basic Calculator ****\n",
      "1. Addition\n",
      "2. Subtraction\n",
      "3. Multiplication\n",
      "4. Division\n"
     ]
    },
    {
     "name": "stdin",
     "output_type": "stream",
     "text": [
      "Enter your choice (1-4):  2\n",
      "Enter the first number:  34\n",
      "Enter the second number:  21\n"
     ]
    },
    {
     "name": "stdout",
     "output_type": "stream",
     "text": [
      "The result of subtraction is: 13.0\n"
     ]
    }
   ],
   "source": [
    "#19. Create a program that simulates a basic calculator for addition, subtraction, multiplication, and division.\n",
    "# Function to perform addition\n",
    "def add(x, y):\n",
    "    return x + y\n",
    "\n",
    "# Function to perform subtraction\n",
    "def subtract(x, y):\n",
    "    return x - y\n",
    "\n",
    "# Function to perform multiplication\n",
    "def multiply(x, y):\n",
    "    return x * y\n",
    "\n",
    "# Function to perform division\n",
    "def divide(x, y):\n",
    "    if y != 0:\n",
    "        return x / y\n",
    "    else:\n",
    "        return \"Error: Division by zero\"\n",
    "\n",
    "# Display the calculator menu\n",
    "print(\"**** Basic Calculator ****\")\n",
    "print(\"1. Addition\")\n",
    "print(\"2. Subtraction\")\n",
    "print(\"3. Multiplication\")\n",
    "print(\"4. Division\")\n",
    "\n",
    "# Input choice from the user\n",
    "choice = input(\"Enter your choice (1-4): \")\n",
    "\n",
    "# Input two numbers\n",
    "num1 = float(input(\"Enter the first number: \"))\n",
    "num2 = float(input(\"Enter the second number: \"))\n",
    "\n",
    "# Perform the selected operation\n",
    "if choice == '1':\n",
    "    result = add(num1, num2)\n",
    "    operation = \"addition\"\n",
    "elif choice == '2':\n",
    "    result = subtract(num1, num2)\n",
    "    operation = \"subtraction\"\n",
    "elif choice == '3':\n",
    "    result = multiply(num1, num2)\n",
    "    operation = \"multiplication\"\n",
    "elif choice == '4':\n",
    "    result = divide(num1, num2)\n",
    "    operation = \"division\"\n",
    "else:\n",
    "    result = \"Invalid choice\"\n",
    "    operation = \"\"\n",
    "\n",
    "# Display the result\n",
    "if operation:\n",
    "    print(f\"The result of {operation} is: {result}\")\n",
    "else:\n",
    "    print(result)\n"
   ]
  },
  {
   "cell_type": "code",
   "execution_count": 5,
   "id": "07f9dece-950c-40f0-bef9-53e83cbc64ba",
   "metadata": {},
   "outputs": [
    {
     "name": "stdin",
     "output_type": "stream",
     "text": [
      "Enter the coefficient a:  45\n",
      "Enter the coefficient b:  45\n",
      "Enter the coefficient c:  45\n",
      "Enter the coefficient d:  45\n"
     ]
    },
    {
     "name": "stdout",
     "output_type": "stream",
     "text": [
      "The roots of the cubic equation are: ((0.36602540378443865+0.7886751345948129j), (-1.3660254037844386+0.2113248654051873j), (-4.440892098500626e-16-1j))\n"
     ]
    }
   ],
   "source": [
    "#20. Write a program that determines the roots of a cubic equation using the Cardano formula.\n",
    "import cmath  # Importing the complex math module for handling complex roots\n",
    "\n",
    "# Function to calculate the roots of a cubic equation using Cardano's formula\n",
    "def cubic_roots(a, b, c, d):\n",
    "    p = (3*a*c - b**2) / (3*a**2)\n",
    "    q = (2*b**3 - 9*a*b*c + 27*a**2*d) / (27*a**3)\n",
    "    delta = (q**2 / 4) + (p**3 / 27)\n",
    "\n",
    "    if delta > 0:\n",
    "        # One real root and two complex roots\n",
    "        u1 = -q/2 + cmath.sqrt(delta)\n",
    "        v1 = -q/2 - cmath.sqrt(delta)\n",
    "        y1 = u1**(1/3) + v1**(1/3)\n",
    "        root1 = y1 - b / (3*a)\n",
    "\n",
    "        # Construct the complex roots\n",
    "        omega = cmath.exp(2j * cmath.pi / 3)  # Cube root of unity\n",
    "        root2 = omega * y1 - b / (3*a)\n",
    "        root3 = omega**2 * y1 - b / (3*a)\n",
    "\n",
    "    elif delta == 0:\n",
    "        # All three real roots (two are identical)\n",
    "        root1 = -q/2 + cmath.sqrt(delta)\n",
    "        root2 = -q/2 - cmath.sqrt(delta)\n",
    "\n",
    "        # Construct the identical real root\n",
    "        root3 = 3 * root1 / 2 - b / (3*a)\n",
    "\n",
    "    else:\n",
    "        # Three distinct real roots\n",
    "        phi = cmath.acos(-q / (2 * cmath.sqrt(-(p**3 / 27))))\n",
    "        root1 = 2 * cmath.sqrt(-p / 3) * cmath.cos(phi/3) - b / (3*a)\n",
    "        root2 = 2 * cmath.sqrt(-p / 3) * cmath.cos((phi + 2*cmath.pi)/3) - b / (3*a)\n",
    "        root3 = 2 * cmath.sqrt(-p / 3) * cmath.cos((phi + 4*cmath.pi)/3) - b / (3*a)\n",
    "\n",
    "    return root1, root2, root3\n",
    "\n",
    "# Input coefficients of the cubic equation ax^3 + bx^2 + cx + d = 0\n",
    "a = float(input(\"Enter the coefficient a: \"))\n",
    "b = float(input(\"Enter the coefficient b: \"))\n",
    "c = float(input(\"Enter the coefficient c: \"))\n",
    "d = float(input(\"Enter the coefficient d: \"))\n",
    "\n",
    "# Calculate and print the roots\n",
    "roots = cubic_roots(a, b, c, d)\n",
    "print(\"The roots of the cubic equation are:\", roots)\n"
   ]
  },
  {
   "cell_type": "code",
   "execution_count": 1,
   "id": "4b0571bb-75b6-432a-896b-f56880e8753f",
   "metadata": {},
   "outputs": [
    {
     "name": "stdin",
     "output_type": "stream",
     "text": [
      "Enter your income:  30000\n"
     ]
    },
    {
     "name": "stdout",
     "output_type": "stream",
     "text": [
      "Your income tax is: $5000.00\n"
     ]
    }
   ],
   "source": [
    " #21. Create a program that calculates the income tax based on the user's income and tax brackets.\n",
    "# Input user's income\n",
    "income = float(input(\"Enter your income: \"))\n",
    "\n",
    "brackets = [10000, 50000, 100000]\n",
    "rates = [0.1, 0.2, 0.3, 0.4]       \n",
    "\n",
    "# Initialize variables\n",
    "remaining_income = income\n",
    "tax = 0\n",
    "\n",
    "# Calculate tax based on tax brackets\n",
    "for i in range(len(brackets) + 1):\n",
    "    if i == len(brackets):\n",
    "        # Last bracket\n",
    "        tax += remaining_income * rates[i]\n",
    "    elif remaining_income > brackets[i]:\n",
    "        tax += brackets[i] * rates[i]\n",
    "        remaining_income -= brackets[i]\n",
    "    else:\n",
    "        # Income is within the current bracket\n",
    "        tax += remaining_income * rates[i]\n",
    "        break\n",
    "\n",
    "# Print the income tax\n",
    "print(f\"Your income tax is: ${tax:.2f}\")\n"
   ]
  },
  {
   "cell_type": "code",
   "execution_count": null,
   "id": "a778041f-1c3a-4409-b08f-d32fbb568707",
   "metadata": {},
   "outputs": [
    {
     "name": "stdout",
     "output_type": "stream",
     "text": [
      "Enter your choice:\n",
      "1. Rock\n",
      "2. Paper\n",
      "3. Scissors\n"
     ]
    },
    {
     "name": "stdin",
     "output_type": "stream",
     "text": [
      "Select 1, 2, or 3:  3\n"
     ]
    },
    {
     "name": "stdout",
     "output_type": "stream",
     "text": [
      "\n",
      "You chose 3\n",
      "Computer chose 1\n",
      "Computer wins!\n"
     ]
    }
   ],
   "source": [
    "#22. Write a program that simulates a rock-paper-scissors game against the computer.\n",
    "import random\n",
    "\n",
    "while True:\n",
    "    # Get user's choice\n",
    "    print(\"Enter your choice:\")\n",
    "    print(\"1. Rock\")\n",
    "    print(\"2. Paper\")\n",
    "    print(\"3. Scissors\")\n",
    "    user_choice = int(input(\"Select 1, 2, or 3: \"))\n",
    "\n",
    "    # Get computer's choice\n",
    "    computer_choice = random.randint(1, 3)\n",
    "\n",
    "    print(f\"\\nYou chose {user_choice}\")\n",
    "    print(f\"Computer chose {computer_choice}\")\n",
    "\n",
    "    # Determine the winner\n",
    "    if user_choice == computer_choice:\n",
    "        print(\"It's a tie!\")\n",
    "    elif (user_choice == 1 and computer_choice == 3) or \\\n",
    "         (user_choice == 2 and computer_choice == 1) or \\\n",
    "         (user_choice == 3 and computer_choice == 2):\n",
    "        print(\"You win!\")\n",
    "    else:\n",
    "        print(\"Computer wins!\")\n",
    "\n",
    "    # Ask if the user wants to play again\n",
    "    play_again = input(\"\\nDo you want to play again? (yes/no): \").lower()\n",
    "    if play_again != 'yes':\n",
    "        print(\"Thanks for playing. Goodbye!\")\n",
    "        break\n"
   ]
  },
  {
   "cell_type": "code",
   "execution_count": 1,
   "id": "69dc8a4f-e7ce-4455-81b3-90509dd3ee83",
   "metadata": {},
   "outputs": [
    {
     "name": "stdin",
     "output_type": "stream",
     "text": [
      "Enter the desired password length:  9\n",
      "Include uppercase letters? (yes/no):  yes\n",
      "Include digits? (yes/no):  yes\n",
      "Include special characters? (yes/no):  yes\n"
     ]
    },
    {
     "name": "stdout",
     "output_type": "stream",
     "text": [
      "Generated Password: .ALQ]bX.g\n"
     ]
    }
   ],
   "source": [
    "#23. Develop a program that generates a random password based on user preferences (length, complexity).\n",
    "import random\n",
    "import string\n",
    "\n",
    "# Get user preferences\n",
    "length = int(input(\"Enter the desired password length: \"))\n",
    "uppercase = input(\"Include uppercase letters? (yes/no): \").lower() == 'yes'\n",
    "digits = input(\"Include digits? (yes/no): \").lower() == 'yes'\n",
    "special_chars = input(\"Include special characters? (yes/no): \").lower() == 'yes'\n",
    "\n",
    "# Define character sets based on user preferences\n",
    "characters = string.ascii_lowercase\n",
    "if uppercase:\n",
    "    characters += string.ascii_uppercase\n",
    "if digits:\n",
    "    characters += string.digits\n",
    "if special_chars:\n",
    "    characters += string.punctuation\n",
    "\n",
    "# Generate the password\n",
    "password = ''.join(random.choice(characters) for _ in range(length))\n",
    "\n",
    "# Print the generated password\n",
    "print(f\"Generated Password: {password}\")\n"
   ]
  },
  {
   "cell_type": "code",
   "execution_count": null,
   "id": "d4cd59b5-4ccc-4d6e-bf92-3be18e4e182e",
   "metadata": {},
   "outputs": [
    {
     "name": "stdout",
     "output_type": "stream",
     "text": [
      "Welcome to the Text-Based Adventure Game!\n",
      "\n",
      "You find yourself standing at a crossroad.\n"
     ]
    },
    {
     "name": "stdin",
     "output_type": "stream",
     "text": [
      "Do you want to go left or right?  left\n"
     ]
    },
    {
     "name": "stdout",
     "output_type": "stream",
     "text": [
      "\n",
      "You follow the path to the left.\n",
      "You encounter a friendly group of travelers.\n",
      "They invite you to join them on their journey.\n"
     ]
    }
   ],
   "source": [
    "#24. Create a program that implements a simple text-based adventure game with branching scenarios.\n",
    "# Start of the adventure game\n",
    "print(\"Welcome to the Text-Based Adventure Game!\")\n",
    "\n",
    "# Scenario 1\n",
    "print(\"\\nYou find yourself standing at a crossroad.\")\n",
    "choice1 = input(\"Do you want to go left or right? \").lower()\n",
    "\n",
    "# Branch based on the first choice\n",
    "if choice1 == \"left\":\n",
    "    print(\"\\nYou follow the path to the left.\")\n",
    "    print(\"You encounter a friendly group of travelers.\")\n",
    "    print(\"They invite you to join them on their journey.\")\n",
    "    choice2a = input(\"Do you want to join them? (yes/no) \").lower()\n",
    "\n",
    "    # Branch based on the second choice\n",
    "    if choice2a == \"yes\":\n",
    "        print(\"\\nYou decide to join the group of travelers.\")\n",
    "        print(\"You have a great time on your journey.\")\n",
    "        print(\"Congratulations, you've completed the adventure!\")\n",
    "    else:\n",
    "        print(\"\\nYou decide to continue your journey alone.\")\n",
    "        print(\"You encounter a mysterious cave.\")\n",
    "        choice3a = input(\"Do you want to enter the cave? (yes/no) \").lower()\n",
    "\n",
    "        # Branch based on the third choice\n",
    "        if choice3a == \"yes\":\n",
    "            print(\"\\nYou enter the cave and discover hidden treasures.\")\n",
    "            print(\"Congratulations, you've completed the adventure!\")\n",
    "        else:\n",
    "            print(\"\\nYou decide to avoid the cave and continue your journey.\")\n",
    "            print(\"You come across a beautiful meadow.\")\n",
    "            print(\"Congratulations, you've completed the adventure!\")\n",
    "\n",
    "else:\n",
    "    print(\"\\nYou follow the path to the right.\")\n",
    "    print(\"You encounter a fierce dragon guarding a treasure.\")\n",
    "    choice2b = input(\"Do you want to fight the dragon? (yes/no) \").lower()\n",
    "\n",
    "    # Branch based on the second choice\n",
    "    if choice2b == \"yes\":\n",
    "        print(\"\\nYou bravely fight the dragon and defeat it.\")\n",
    "        print(\"Congratulations, you've earned the treasure!\")\n",
    "    else:\n",
    "        print(\"\\nYou decide to run away from the dragon.\")\n",
    "        print(\"You find a hidden passage and escape safely.\")\n",
    "        print(\"Congratulations, you've completed the adventure!\")\n"
   ]
  },
  {
   "cell_type": "code",
   "execution_count": 1,
   "id": "57eb2f08-baeb-45ff-afa9-7d4cdd1577fa",
   "metadata": {},
   "outputs": [
    {
     "name": "stdin",
     "output_type": "stream",
     "text": [
      "Enter the coefficient of x:  3\n",
      "Enter the constant term:  4\n"
     ]
    },
    {
     "name": "stdout",
     "output_type": "stream",
     "text": [
      "The solution for the linear equation 3.0x + 4.0 = 0 is x = -1.3333333333333333\n"
     ]
    }
   ],
   "source": [
    "#25. Build a program that solves a linear equation for x, considering different cases.\n",
    "# Get coefficients from the user\n",
    "a = float(input(\"Enter the coefficient of x: \"))\n",
    "b = float(input(\"Enter the constant term: \"))\n",
    "\n",
    "# Solve the linear equation: ax + b = 0\n",
    "if a == 0:\n",
    "    if b == 0:\n",
    "        print(\"Infinite solutions (identity equation)\")\n",
    "    else:\n",
    "        print(\"No solution (contradiction)\")\n",
    "else:\n",
    "    x = -b / a\n",
    "    print(f\"The solution for the linear equation {a}x + {b} = 0 is x = {x}\")\n"
   ]
  },
  {
   "cell_type": "code",
   "execution_count": 3,
   "id": "3d150052-4095-4ccb-a348-220c4cae52ae",
   "metadata": {},
   "outputs": [
    {
     "name": "stdout",
     "output_type": "stream",
     "text": [
      "\n",
      "Question 1: What is the capital of France?\n",
      "A. London\n",
      "B. Paris\n",
      "C. Berlin\n",
      "D. Rome\n"
     ]
    },
    {
     "name": "stdin",
     "output_type": "stream",
     "text": [
      "Your answer (enter A, B, C, or D):  2\n"
     ]
    },
    {
     "name": "stdout",
     "output_type": "stream",
     "text": [
      "Incorrect. The correct answer is B.\n",
      "\n",
      "\n",
      "Question 2: Which planet is known as the Red Planet?\n",
      "A. Mars\n",
      "B. Jupiter\n",
      "C. Venus\n",
      "D. Saturn\n"
     ]
    },
    {
     "name": "stdin",
     "output_type": "stream",
     "text": [
      "Your answer (enter A, B, C, or D):  a\n"
     ]
    },
    {
     "name": "stdout",
     "output_type": "stream",
     "text": [
      "Correct!\n",
      "\n",
      "\n",
      "Question 3: What is the largest mammal in the world?\n",
      "A. Elephant\n",
      "B. Giraffe\n",
      "C. Blue Whale\n",
      "D. Lion\n"
     ]
    },
    {
     "name": "stdin",
     "output_type": "stream",
     "text": [
      "Your answer (enter A, B, C, or D):  c\n"
     ]
    },
    {
     "name": "stdout",
     "output_type": "stream",
     "text": [
      "Correct!\n",
      "\n",
      "Quiz completed! Your final score is: 2/3\n"
     ]
    }
   ],
   "source": [
    "#26. Write a program that simulates a basic quiz game with multiple-choice questions and scoring.\n",
    "# Define the quiz questions and answers\n",
    "questions = [\n",
    "    {\n",
    "        'question': 'What is the capital of France?',\n",
    "        'options': ['A. London', 'B. Paris', 'C. Berlin', 'D. Rome'],\n",
    "        'correct_answer': 'B'\n",
    "    },\n",
    "    {\n",
    "        'question': 'Which planet is known as the Red Planet?',\n",
    "        'options': ['A. Mars', 'B. Jupiter', 'C. Venus', 'D. Saturn'],\n",
    "        'correct_answer': 'A'\n",
    "    },\n",
    "    {\n",
    "        'question': 'What is the largest mammal in the world?',\n",
    "        'options': ['A. Elephant', 'B. Giraffe', 'C. Blue Whale', 'D. Lion'],\n",
    "        'correct_answer': 'C'\n",
    "    }\n",
    "]\n",
    "\n",
    "# Initialize score\n",
    "score = 0\n",
    "\n",
    "# Display and answer quiz questions\n",
    "for i, question_data in enumerate(questions, 1):\n",
    "    print(f\"\\nQuestion {i}: {question_data['question']}\")\n",
    "    for option in question_data['options']:\n",
    "        print(option)\n",
    "    user_answer = input(\"Your answer (enter A, B, C, or D): \").upper()\n",
    "\n",
    "    # Check if the answer is correct\n",
    "    if user_answer == question_data['correct_answer']:\n",
    "        print(\"Correct!\\n\")\n",
    "        score += 1\n",
    "    else:\n",
    "        correct_option = question_data['correct_answer']\n",
    "        print(f\"Incorrect. The correct answer is {correct_option}.\\n\")\n",
    "\n",
    "# Display the final score\n",
    "print(f\"Quiz completed! Your final score is: {score}/{len(questions)}\")\n"
   ]
  },
  {
   "cell_type": "code",
   "execution_count": 4,
   "id": "504024e4-08f2-4c21-a5cf-829b4edd9167",
   "metadata": {},
   "outputs": [
    {
     "name": "stdin",
     "output_type": "stream",
     "text": [
      "Enter a year:  2000\n"
     ]
    },
    {
     "name": "stdout",
     "output_type": "stream",
     "text": [
      "2000 is not a prime number.\n"
     ]
    }
   ],
   "source": [
    "#27. Develop a program that determines whether a given year is a prime number or not.\n",
    "# Input a year from the user\n",
    "year = int(input(\"Enter a year: \"))\n",
    "\n",
    "# Check if the year is a prime number\n",
    "if year > 1:\n",
    "    for i in range(2, int(year**0.5) + 1):\n",
    "        if year % i == 0:\n",
    "            print(f\"{year} is not a prime number.\")\n",
    "            break\n",
    "    else:\n",
    "        print(f\"{year} is a prime number.\")\n",
    "else:\n",
    "    print(\"Invalid input. Please enter a year greater than 1.\")\n"
   ]
  },
  {
   "cell_type": "code",
   "execution_count": 5,
   "id": "63c89a16-aeb8-4255-af92-55225e725bf7",
   "metadata": {},
   "outputs": [
    {
     "name": "stdin",
     "output_type": "stream",
     "text": [
      "Enter the first number:  12\n",
      "Enter the second number:  21\n",
      "Enter the third number:  33\n"
     ]
    },
    {
     "name": "stdout",
     "output_type": "stream",
     "text": [
      "The numbers in ascending order are: 12.0, 21.0, 33.0\n"
     ]
    }
   ],
   "source": [
    "#28. Create a program that sorts three numbers in ascending order using conditional statements.\n",
    "# Input three numbers from the user\n",
    "num1 = float(input(\"Enter the first number: \"))\n",
    "num2 = float(input(\"Enter the second number: \"))\n",
    "num3 = float(input(\"Enter the third number: \"))\n",
    "\n",
    "# Sort the numbers in ascending order using conditional statements\n",
    "if num1 <= num2 <= num3:\n",
    "    sorted_nums = [num1, num2, num3]\n",
    "elif num1 <= num3 <= num2:\n",
    "    sorted_nums = [num1, num3, num2]\n",
    "elif num2 <= num1 <= num3:\n",
    "    sorted_nums = [num2, num1, num3]\n",
    "elif num2 <= num3 <= num1:\n",
    "    sorted_nums = [num2, num3, num1]\n",
    "elif num3 <= num1 <= num2:\n",
    "    sorted_nums = [num3, num1, num2]\n",
    "else:\n",
    "    sorted_nums = [num3, num2, num1]\n",
    "\n",
    "# Display the sorted numbers\n",
    "print(f\"The numbers in ascending order are: {sorted_nums[0]}, {sorted_nums[1]}, {sorted_nums[2]}\")\n"
   ]
  },
  {
   "cell_type": "code",
   "execution_count": 2,
   "id": "5034aac3-1560-4537-811d-a63eaa2d4a39",
   "metadata": {},
   "outputs": [
    {
     "name": "stdin",
     "output_type": "stream",
     "text": [
      "Enter the coefficient a:  4\n",
      "Enter the coefficient b:  3\n",
      "Enter the coefficient c:  2\n",
      "Enter the coefficient d:  1\n",
      "Enter the constant term e:  2\n",
      "Enter an initial guess for the root:  16\n"
     ]
    },
    {
     "name": "stdout",
     "output_type": "stream",
     "text": [
      "Root not found within the maximum number of iterations.\n"
     ]
    }
   ],
   "source": [
    "#29. Build a program that determines the roots of a quartic equation using numerical methods.\n",
    "# Define the quartic equation: ax^4 + bx^3 + cx^2 + dx + e = 0\n",
    "a = float(input(\"Enter the coefficient a: \"))\n",
    "b = float(input(\"Enter the coefficient b: \"))\n",
    "c = float(input(\"Enter the coefficient c: \"))\n",
    "d = float(input(\"Enter the coefficient d: \"))\n",
    "e = float(input(\"Enter the constant term e: \"))\n",
    "\n",
    "# Define the derivative of the quartic equation: 4ax^3 + 3bx^2 + 2cx + d\n",
    "def derivative(x):\n",
    "    return 4*a*x**3 + 3*b*x**2 + 2*c*x + d\n",
    "\n",
    "# Initialize guess and maximum number of iterations\n",
    "x_guess = float(input(\"Enter an initial guess for the root: \"))\n",
    "max_iterations = 1000\n",
    "\n",
    "# Newton's method for finding roots\n",
    "for iteration in range(max_iterations):\n",
    "    f_x = a*x_guess**4 + b*x_guess**3 + c*x_guess**2 + d*x_guess + e\n",
    "    f_prime_x = derivative(x_guess)\n",
    "\n",
    "    x_guess = x_guess - f_x / f_prime_x\n",
    "\n",
    "    # Check for convergence\n",
    "    if abs(f_x) < 1e-8:\n",
    "        print(f\"\\nRoot found after {iteration+1} iterations: x = {x_guess:.6f}\")\n",
    "        break\n",
    "else:\n",
    "    print(\"Root not found within the maximum number of iterations.\")\n"
   ]
  },
  {
   "cell_type": "code",
   "execution_count": 3,
   "id": "4f8b3e4e-84f7-4fc9-a136-327d844996d0",
   "metadata": {},
   "outputs": [
    {
     "name": "stdin",
     "output_type": "stream",
     "text": [
      "Enter your height in meters:  2\n",
      "Enter your weight in kilograms:  80\n"
     ]
    },
    {
     "name": "stdout",
     "output_type": "stream",
     "text": [
      "\n",
      "Your BMI is: 20.00\n",
      "Your weight is normal. Keep up the good work!\n"
     ]
    }
   ],
   "source": [
    "#30. Write a program that calculates the BMI (Body Mass Index) and provides health recommendations based on the user's input.\n",
    "# Input height and weight from the user\n",
    "height = float(input(\"Enter your height in meters: \"))\n",
    "weight = float(input(\"Enter your weight in kilograms: \"))\n",
    "\n",
    "# Calculate BMI\n",
    "bmi = weight / (height ** 2)\n",
    "\n",
    "# Display BMI and health recommendations\n",
    "print(f\"\\nYour BMI is: {bmi:.2f}\")\n",
    "\n",
    "if bmi < 18.5:\n",
    "    print(\"You are underweight. Consider gaining some weight for better health.\")\n",
    "elif 18.5 <= bmi < 24.9:\n",
    "    print(\"Your weight is normal. Keep up the good work!\")\n",
    "elif 25 <= bmi < 29.9:\n",
    "    print(\"You are overweight. Consider losing some weight for better health.\")\n",
    "else:\n",
    "    print(\"You are obese. It's recommended to consult with a healthcare professional for guidance.\")\n"
   ]
  },
  {
   "cell_type": "code",
   "execution_count": 4,
   "id": "bfed3f0c-2c38-4181-bb91-0291ca39d32a",
   "metadata": {},
   "outputs": [
    {
     "name": "stdin",
     "output_type": "stream",
     "text": [
      "Enter your password:  SAnjay@123\n"
     ]
    },
    {
     "name": "stdout",
     "output_type": "stream",
     "text": [
      "Password is valid.\n"
     ]
    }
   ],
   "source": [
    "#31. Create a program that validates a password based on complexity rules (length, characters, etc.).\n",
    "# Define password complexity rules\n",
    "MIN_LENGTH = 8\n",
    "MAX_LENGTH = 20\n",
    "VALID_SPECIAL_CHARACTERS = '!@#$%^&*()_-+=<>?/[]{}|'\n",
    "\n",
    "# Input a password from the user\n",
    "password = input(\"Enter your password: \")\n",
    "\n",
    "# Password validation\n",
    "if MIN_LENGTH <= len(password) <= MAX_LENGTH:\n",
    "    if any(char.isdigit() for char in password) and \\\n",
    "       any(char.isalpha() for char in password) and \\\n",
    "       any(char in VALID_SPECIAL_CHARACTERS for char in password):\n",
    "        print(\"Password is valid.\")\n",
    "    else:\n",
    "        print(\"Password must contain at least one digit, one letter, and one special character.\")\n",
    "else:\n",
    "    print(f\"Password length must be between {MIN_LENGTH} and {MAX_LENGTH} characters.\")\n"
   ]
  },
  {
   "cell_type": "code",
   "execution_count": 3,
   "id": "8e4ebfe7-bd67-461d-96b7-b591e2c76857",
   "metadata": {},
   "outputs": [
    {
     "name": "stdin",
     "output_type": "stream",
     "text": [
      "Enter the number of rows:  2\n",
      "Enter the number of columns:  2\n",
      "Enter element [1][1] for matrix1:  6\n",
      "Enter element [1][2] for matrix1:  5\n",
      "Enter element [2][1] for matrix1:  4\n",
      "Enter element [2][2] for matrix1:  3\n",
      "Enter element [1][1] for matrix2:  2\n",
      "Enter element [1][2] for matrix2:  6\n",
      "Enter element [2][1] for matrix2:  45\n",
      "Enter element [2][2] for matrix2:  3\n"
     ]
    },
    {
     "name": "stdout",
     "output_type": "stream",
     "text": [
      "\n",
      "Matrix 1:\n",
      "[6.0, 5.0]\n",
      "[4.0, 3.0]\n",
      "\n",
      "Matrix 2:\n",
      "[2.0, 6.0]\n",
      "[45.0, 3.0]\n",
      "\n",
      "Matrix Addition Result:\n",
      "[8.0, 11.0]\n",
      "[49.0, 6.0]\n",
      "\n",
      "Matrix Subtraction Result:\n",
      "[4.0, -1.0]\n",
      "[-41.0, 0.0]\n"
     ]
    }
   ],
   "source": [
    "#32. Develop a program that performs matrix addition and subtraction based on user input.\n",
    "# Input matrix dimensions from the user\n",
    "rows = int(input(\"Enter the number of rows: \"))\n",
    "cols = int(input(\"Enter the number of columns: \"))\n",
    "\n",
    "# Input matrices from the user\n",
    "matrix1 = [[float(input(f\"Enter element [{i+1}][{j+1}] for matrix1: \")) for j in range(cols)] for i in range(rows)]\n",
    "matrix2 = [[float(input(f\"Enter element [{i+1}][{j+1}] for matrix2: \")) for j in range(cols)] for i in range(rows)]\n",
    "\n",
    "# Display input matrices\n",
    "print(\"\\nMatrix 1:\")\n",
    "for row in matrix1:\n",
    "    print(row)\n",
    "\n",
    "print(\"\\nMatrix 2:\")\n",
    "for row in matrix2:\n",
    "    print(row)\n",
    "\n",
    "# Perform matrix addition and subtraction\n",
    "result_addition = [[matrix1[i][j] + matrix2[i][j] for j in range(cols)] for i in range(rows)]\n",
    "result_subtraction = [[matrix1[i][j] - matrix2[i][j] for j in range(cols)] for i in range(rows)]\n",
    "\n",
    "# Display results\n",
    "print(\"\\nMatrix Addition Result:\")\n",
    "for row in result_addition:\n",
    "    print(row)\n",
    "\n",
    "print(\"\\nMatrix Subtraction Result:\")\n",
    "for row in result_subtraction:\n",
    "    print(row)\n",
    "\n"
   ]
  },
  {
   "cell_type": "code",
   "execution_count": 4,
   "id": "6aeb3bac-587d-4c70-9487-1f65bc680b1a",
   "metadata": {},
   "outputs": [
    {
     "name": "stdin",
     "output_type": "stream",
     "text": [
      "Enter the first number:  32\n",
      "Enter the second number:  23\n"
     ]
    },
    {
     "name": "stdout",
     "output_type": "stream",
     "text": [
      "The GCD of 32 and 23 is: 1\n"
     ]
    }
   ],
   "source": [
    "#33. Write a program that calculates the greatest common divisor (GCD) of two numbers using the Euclidean algorithm.\n",
    "\n",
    "# Function to calculate the GCD using the Euclidean algorithm\n",
    "def calculate_gcd(a, b):\n",
    "    while b:\n",
    "        a, b = b, a % b\n",
    "    return a\n",
    "\n",
    "# Input two numbers from the user\n",
    "num1 = int(input(\"Enter the first number: \"))\n",
    "num2 = int(input(\"Enter the second number: \"))\n",
    "\n",
    "# Calculate and display the GCD\n",
    "gcd = calculate_gcd(num1, num2)\n",
    "print(f\"The GCD of {num1} and {num2} is: {gcd}\")\n"
   ]
  },
  {
   "cell_type": "code",
   "execution_count": 2,
   "id": "b0ac71f8-787e-4d8f-ab8c-4a7f096d7cbe",
   "metadata": {},
   "outputs": [
    {
     "name": "stdin",
     "output_type": "stream",
     "text": [
      "Enter the number of rows for matrix 1:  2\n",
      "Enter the number of columns for matrix 1:  2\n",
      "Enter the number of rows for matrix 2:  2\n",
      "Enter the number of columns for matrix 2:  2\n",
      "Enter element [1][1] for matrix 1:  1\n",
      "Enter element [1][2] for matrix 1:  2\n",
      "Enter element [2][1] for matrix 1:  2\n",
      "Enter element [2][2] for matrix 1:  1\n",
      "Enter element [1][1] for matrix 2:  1\n",
      "Enter element [1][2] for matrix 2:  2\n",
      "Enter element [2][1] for matrix 2:  1\n",
      "Enter element [2][2] for matrix 2:  2\n"
     ]
    },
    {
     "name": "stdout",
     "output_type": "stream",
     "text": [
      "\n",
      "Matrix Multiplication Result:\n",
      "[3.0, 6.0]\n",
      "[3.0, 6.0]\n"
     ]
    }
   ],
   "source": [
    "#34. Build a program that performs matrix multiplication using nested loops and conditional statements.\n",
    "# Input dimensions of matrices from the user\n",
    "rows1 = int(input(\"Enter the number of rows for matrix 1: \"))\n",
    "cols1 = int(input(\"Enter the number of columns for matrix 1: \"))\n",
    "rows2 = int(input(\"Enter the number of rows for matrix 2: \"))\n",
    "cols2 = int(input(\"Enter the number of columns for matrix 2: \"))\n",
    "\n",
    "# Check if matrices can be multiplied\n",
    "if cols1 != rows2:\n",
    "    print(\"Matrices cannot be multiplied. Number of columns in matrix 1 must be equal to the number of rows in matrix 2.\")\n",
    "else:\n",
    "    # Input matrices from the user\n",
    "    matrix1 = [[float(input(f\"Enter element [{i+1}][{j+1}] for matrix 1: \")) for j in range(cols1)] for i in range(rows1)]\n",
    "    matrix2 = [[float(input(f\"Enter element [{i+1}][{j+1}] for matrix 2: \")) for j in range(cols2)] for i in range(rows2)]\n",
    "\n",
    "    # Initialize the result matrix with zeros\n",
    "    result_matrix = [[0 for _ in range(cols2)] for _ in range(rows1)]\n",
    "\n",
    "    # Perform matrix multiplication\n",
    "    for i in range(rows1):\n",
    "        for j in range(cols2):\n",
    "            for k in range(cols1):\n",
    "                result_matrix[i][j] += matrix1[i][k] * matrix2[k][j]\n",
    "\n",
    "    # Display the result matrix\n",
    "    print(\"\\nMatrix Multiplication Result:\")\n",
    "    for row in result_matrix:\n",
    "        print(row)\n"
   ]
  },
  {
   "cell_type": "code",
   "execution_count": 4,
   "id": "dadc423f-86f6-46c9-beb1-eef726cd15c0",
   "metadata": {},
   "outputs": [
    {
     "name": "stdout",
     "output_type": "stream",
     "text": [
      "  |   |  \n",
      "-------------\n",
      "  |   |  \n",
      "-------------\n",
      "  |   |  \n",
      "-------------\n"
     ]
    },
    {
     "name": "stdin",
     "output_type": "stream",
     "text": [
      "Enter the row number (1, 2, or 3):  1\n",
      "Enter the column number (1, 2, or 3):  2\n"
     ]
    },
    {
     "name": "stdout",
     "output_type": "stream",
     "text": [
      "  | X |  \n",
      "-------------\n",
      "  |   |  \n",
      "-------------\n",
      "O |   |  \n",
      "-------------\n"
     ]
    },
    {
     "name": "stdin",
     "output_type": "stream",
     "text": [
      "Enter the row number (1, 2, or 3):  1\n",
      "Enter the column number (1, 2, or 3):  1\n"
     ]
    },
    {
     "name": "stdout",
     "output_type": "stream",
     "text": [
      "X | X | O\n",
      "-------------\n",
      "  |   |  \n",
      "-------------\n",
      "O |   |  \n",
      "-------------\n"
     ]
    },
    {
     "name": "stdin",
     "output_type": "stream",
     "text": [
      "Enter the row number (1, 2, or 3):  2\n",
      "Enter the column number (1, 2, or 3):  2\n"
     ]
    },
    {
     "name": "stdout",
     "output_type": "stream",
     "text": [
      "X | X | O\n",
      "-------------\n",
      "  | X |  \n",
      "-------------\n",
      "O | O |  \n",
      "-------------\n"
     ]
    },
    {
     "name": "stdin",
     "output_type": "stream",
     "text": [
      "Enter the row number (1, 2, or 3):  3\n",
      "Enter the column number (1, 2, or 3):  3\n"
     ]
    },
    {
     "name": "stdout",
     "output_type": "stream",
     "text": [
      "X | X | O\n",
      "-------------\n",
      "  | X |  \n",
      "-------------\n",
      "O | O | X\n",
      "-------------\n",
      "Congratulations! You win!\n"
     ]
    }
   ],
   "source": [
    "#35. Create a program that simulates a basic text-based tic-tac-toe game against the computer.\n",
    "import random\n",
    "\n",
    "# Function to display the tic-tac-toe board\n",
    "def display_board(board):\n",
    "    for row in board:\n",
    "        print(\" | \".join(row))\n",
    "        print(\"-\" * 13)\n",
    "\n",
    "# Function to check for a win\n",
    "def check_win(board, player):\n",
    "    # Check rows and columns\n",
    "    for i in range(3):\n",
    "        if all(board[i][j] == player for j in range(3)) or all(board[j][i] == player for j in range(3)):\n",
    "            return True\n",
    "\n",
    "    # Check diagonals\n",
    "    if all(board[i][i] == player for i in range(3)) or all(board[i][2 - i] == player for i in range(3)):\n",
    "        return True\n",
    "\n",
    "    return False\n",
    "\n",
    "# Function to check for a tie\n",
    "def check_tie(board):\n",
    "    return all(all(cell != ' ' for cell in row) for row in board)\n",
    "\n",
    "# Function for the computer's move\n",
    "def computer_move(board):\n",
    "    empty_cells = [(i, j) for i in range(3) for j in range(3) if board[i][j] == ' ']\n",
    "    return random.choice(empty_cells)\n",
    "\n",
    "# Main game loop\n",
    "board = [[' ' for _ in range(3)] for _ in range(3)]\n",
    "player_symbol = 'X'\n",
    "computer_symbol = 'O'\n",
    "\n",
    "while True:\n",
    "    # Player's move\n",
    "    display_board(board)\n",
    "    row = int(input(\"Enter the row number (1, 2, or 3): \")) - 1\n",
    "    col = int(input(\"Enter the column number (1, 2, or 3): \")) - 1\n",
    "\n",
    "    if board[row][col] == ' ':\n",
    "        board[row][col] = player_symbol\n",
    "    else:\n",
    "        print(\"Cell already occupied. Try again.\")\n",
    "        continue\n",
    "\n",
    "    # Check if the player wins\n",
    "    if check_win(board, player_symbol):\n",
    "        display_board(board)\n",
    "        print(\"Congratulations! You win!\")\n",
    "        break\n",
    "\n",
    "    # Check for a tie\n",
    "    if check_tie(board):\n",
    "        display_board(board)\n",
    "        print(\"It's a tie!\")\n",
    "        break\n",
    "\n",
    "    # Computer's move\n",
    "    computer_row, computer_col = computer_move(board)\n",
    "    board[computer_row][computer_col] = computer_symbol\n",
    "\n",
    "    # Check if the computer wins\n",
    "    if check_win(board, computer_symbol):\n",
    "        display_board(board)\n",
    "        print(\"Computer wins! Better luck next time.\")\n",
    "        break\n"
   ]
  },
  {
   "cell_type": "code",
   "execution_count": 5,
   "id": "c25d3778-c5d3-4f42-a767-3508c5990b1d",
   "metadata": {},
   "outputs": [
    {
     "name": "stdin",
     "output_type": "stream",
     "text": [
      "Enter the number of Fibonacci terms to generate:  12\n"
     ]
    },
    {
     "name": "stdout",
     "output_type": "stream",
     "text": [
      "\n",
      "Fibonacci sequence up to term 12:\n",
      "[0, 1, 1, 2, 3, 5, 8, 13, 21, 34, 55, 89]\n"
     ]
    }
   ],
   "source": [
    "#36. Write a program that generates Fibonacci numbers up to a specified term using iterative methods.\n",
    "# Function to generate Fibonacci numbers iteratively\n",
    "def generate_fibonacci(n):\n",
    "    fibonacci_sequence = [0, 1]\n",
    "\n",
    "    for i in range(2, n):\n",
    "        next_fibonacci = fibonacci_sequence[i-1] + fibonacci_sequence[i-2]\n",
    "        fibonacci_sequence.append(next_fibonacci)\n",
    "\n",
    "    return fibonacci_sequence\n",
    "\n",
    "# Input the number of terms from the user\n",
    "num_terms = int(input(\"Enter the number of Fibonacci terms to generate: \"))\n",
    "\n",
    "# Check for valid input\n",
    "if num_terms <= 0:\n",
    "    print(\"Please enter a positive integer.\")\n",
    "else:\n",
    "    # Generate and display Fibonacci numbers\n",
    "    fibonacci_sequence = generate_fibonacci(num_terms)\n",
    "    print(f\"\\nFibonacci sequence up to term {num_terms}:\")\n",
    "    print(fibonacci_sequence)\n",
    "\n",
    "    "
   ]
  },
  {
   "cell_type": "code",
   "execution_count": 6,
   "id": "bf30567f-ddb4-444d-86ee-0d77b1785e1b",
   "metadata": {},
   "outputs": [
    {
     "name": "stdin",
     "output_type": "stream",
     "text": [
      "Enter the term number in the Fibonacci sequence:  13\n"
     ]
    },
    {
     "name": "stdout",
     "output_type": "stream",
     "text": [
      "The 13th term in the Fibonacci sequence is: 233\n"
     ]
    }
   ],
   "source": [
    "#37. Develop a program that calculates the nth term of the Fibonacci sequence using memoization.\n",
    "# Function to calculate Fibonacci term using memoization\n",
    "def fibonacci(n, memo={}):\n",
    "    if n in memo:\n",
    "        return memo[n]\n",
    "    if n <= 1:\n",
    "        return n\n",
    "    else:\n",
    "        result = fibonacci(n - 1, memo) + fibonacci(n - 2, memo)\n",
    "        memo[n] = result\n",
    "        return result\n",
    "\n",
    "# Input the term number from the user\n",
    "term_number = int(input(\"Enter the term number in the Fibonacci sequence: \"))\n",
    "\n",
    "# Check for valid input\n",
    "if term_number < 0:\n",
    "    print(\"Please enter a non-negative integer.\")\n",
    "else:\n",
    "    # Calculate and display the Fibonacci term\n",
    "    result = fibonacci(term_number)\n",
    "    print(f\"The {term_number}th term in the Fibonacci sequence is: {result}\")\n"
   ]
  },
  {
   "cell_type": "code",
   "execution_count": 7,
   "id": "2c177d40-f78a-4f8f-9b5b-0a287027f59d",
   "metadata": {},
   "outputs": [
    {
     "name": "stdin",
     "output_type": "stream",
     "text": [
      "Enter the year (e.g., 2022):  2000\n",
      "Enter the month (1-12):  7\n"
     ]
    },
    {
     "name": "stdout",
     "output_type": "stream",
     "text": [
      "\n",
      "July 2000 Calendar:\n",
      " Mo Tu We Th Fr Sa Su\n",
      "                     1   2  \n",
      " 3   4   5   6   7   8   9  \n",
      "10  11  12  13  14  15  16  \n",
      "17  18  19  20  21  22  23  \n",
      "24  25  26  27  28  29  30  \n",
      "31                          \n"
     ]
    }
   ],
   "source": [
    "#38. Create a program that generates a calendar for a given month and year using conditional statements.\n",
    "import calendar\n",
    "\n",
    "# Input month and year from the user\n",
    "year = int(input(\"Enter the year (e.g., 2022): \"))\n",
    "month = int(input(\"Enter the month (1-12): \"))\n",
    "\n",
    "# Check for valid input\n",
    "if not (1 <= month <= 12):\n",
    "    print(\"Invalid month. Please enter a number between 1 and 12.\")\n",
    "else:\n",
    "    # Generate and display the calendar\n",
    "    cal = calendar.monthcalendar(year, month)\n",
    "    month_name = calendar.month_name[month]\n",
    "\n",
    "    print(f\"\\n{month_name} {year} Calendar:\")\n",
    "    print(\" Mo Tu We Th Fr Sa Su\")\n",
    "    \n",
    "    for week in cal:\n",
    "        for day in week:\n",
    "            if day == 0:\n",
    "                print(\"   \", end=\" \")\n",
    "            else:\n",
    "                print(f\"{day:2} \", end=\" \")\n",
    "        print()\n"
   ]
  },
  {
   "cell_type": "code",
   "execution_count": null,
   "id": "c4d6976d-c1d6-46e0-94cf-06f4f2672811",
   "metadata": {},
   "outputs": [
    {
     "name": "stdout",
     "output_type": "stream",
     "text": [
      "\n",
      "Your hand: [4, 10] (Total: 14)\n",
      "Dealer's hand: 3 and [Hidden Card]\n",
      "\n",
      "Options:\n",
      "1. Hit\n",
      "2. Stand\n"
     ]
    },
    {
     "name": "stdin",
     "output_type": "stream",
     "text": [
      "Enter your choice (1 for Hit, 2 for Stand):  1\n"
     ]
    },
    {
     "name": "stdout",
     "output_type": "stream",
     "text": [
      "\n",
      "Your hand: [4, 10, 10] (Total: 24)\n",
      "Dealer's hand: 3 and [Hidden Card]\n",
      "\n",
      "Options:\n",
      "1. Hit\n",
      "2. Stand\n",
      "Busted! You lose.\n",
      "\n",
      "Your hand: [4, 10, 10] (Total: 24)\n",
      "Dealer's hand: 3 and [Hidden Card]\n",
      "\n",
      "Game Over!\n",
      "You busted! You lose.\n",
      "Dealer wins!\n"
     ]
    },
    {
     "name": "stdin",
     "output_type": "stream",
     "text": [
      "Do you want to play again? (yes/no):  yes\n"
     ]
    },
    {
     "name": "stdout",
     "output_type": "stream",
     "text": [
      "\n",
      "Your hand: [10, 4] (Total: 14)\n",
      "Dealer's hand: 2 and [Hidden Card]\n",
      "\n",
      "Options:\n",
      "1. Hit\n",
      "2. Stand\n"
     ]
    },
    {
     "name": "stdin",
     "output_type": "stream",
     "text": [
      "Enter your choice (1 for Hit, 2 for Stand):  2\n"
     ]
    },
    {
     "name": "stdout",
     "output_type": "stream",
     "text": [
      "\n",
      "Your hand: [10, 4] (Total: 14)\n",
      "Dealer's hand: 2 and [Hidden Card]\n",
      "\n",
      "Options:\n",
      "1. Hit\n",
      "2. Stand\n",
      "Dealer wins!\n"
     ]
    }
   ],
   "source": [
    "#39. Build a program that simulates a basic text-based blackjack game against the computer.\n",
    "import random\n",
    "\n",
    "# Function to calculate the total value of a hand\n",
    "def calculate_hand_value(hand):\n",
    "    value = sum(hand)\n",
    "    if 11 in hand and value > 21:\n",
    "        hand.remove(11)\n",
    "        hand.append(1)\n",
    "    return sum(hand)\n",
    "\n",
    "# Function to display the current state of the game\n",
    "def display_game(player_hand, dealer_hand, player_value, dealer_value, player_bust, dealer_bust):\n",
    "    print(\"\\nYour hand:\", player_hand, f\"(Total: {player_value})\")\n",
    "    print(\"Dealer's hand:\", dealer_hand[0], \"and [Hidden Card]\")\n",
    "\n",
    "    if player_bust or dealer_bust:\n",
    "        print(\"\\nGame Over!\")\n",
    "        if player_bust:\n",
    "            print(\"You busted! You lose.\")\n",
    "        elif dealer_bust:\n",
    "            print(\"Dealer busted! You win.\")\n",
    "    else:\n",
    "        print(\"\\nOptions:\")\n",
    "        print(\"1. Hit\")\n",
    "        print(\"2. Stand\")\n",
    "\n",
    "# Main game loop\n",
    "while True:\n",
    "    # Initialize the deck and hands\n",
    "    deck = [2, 3, 4, 5, 6, 7, 8, 9, 10, 10, 10, 10, 11] * 4  # Four suits\n",
    "    random.shuffle(deck)\n",
    "\n",
    "    player_hand = [deck.pop(), deck.pop()]\n",
    "    dealer_hand = [deck.pop(), deck.pop()]\n",
    "\n",
    "    player_bust = False\n",
    "    dealer_bust = False\n",
    "\n",
    "    # Player's turn\n",
    "    while True:\n",
    "        player_value = calculate_hand_value(player_hand)\n",
    "        dealer_value = calculate_hand_value(dealer_hand)\n",
    "\n",
    "        display_game(player_hand, dealer_hand, player_value, dealer_value, player_bust, dealer_bust)\n",
    "\n",
    "        if player_value == 21:\n",
    "            print(\"Blackjack! You win.\")\n",
    "            break\n",
    "        elif player_value > 21:\n",
    "            print(\"Busted! You lose.\")\n",
    "            player_bust = True\n",
    "            break\n",
    "\n",
    "        choice = input(\"Enter your choice (1 for Hit, 2 for Stand): \")\n",
    "        if choice == '1':\n",
    "            player_hand.append(deck.pop())\n",
    "        elif choice == '2':\n",
    "            break\n",
    "        else:\n",
    "            print(\"Invalid choice. Please enter 1 or 2.\")\n",
    "\n",
    "    # Dealer's turn\n",
    "    while not dealer_bust and dealer_value < 17:\n",
    "        dealer_hand.append(deck.pop())\n",
    "        dealer_value = calculate_hand_value(dealer_hand)\n",
    "\n",
    "    # Determine the winner\n",
    "    player_value = calculate_hand_value(player_hand)\n",
    "    dealer_value = calculate_hand_value(dealer_hand)\n",
    "\n",
    "    display_game(player_hand, dealer_hand, player_value, dealer_value, player_bust, dealer_bust)\n",
    "\n",
    "    if not player_bust and (dealer_bust or player_value > dealer_value):\n",
    "        print(\"You win!\")\n",
    "    elif not dealer_bust and (player_bust or dealer_value >= player_value):\n",
    "        print(\"Dealer wins!\")\n",
    "\n",
    "    # Ask if the player wants to play again\n",
    "    play_again = input(\"Do you want to play again? (yes/no): \").lower()\n",
    "    if play_again != 'yes':\n",
    "        print(\"Thanks for playing. Goodbye!\")\n",
    "        break\n"
   ]
  },
  {
   "cell_type": "code",
   "execution_count": 2,
   "id": "d97781f8-f676-43e8-b918-811e6e875cc6",
   "metadata": {},
   "outputs": [
    {
     "name": "stdin",
     "output_type": "stream",
     "text": [
      "Enter a number:  6\n"
     ]
    },
    {
     "name": "stdout",
     "output_type": "stream",
     "text": [
      "\n",
      "Prime factors of 6: [2, 3]\n"
     ]
    }
   ],
   "source": [
    "#40. Write a program that generates the prime factors of a given number using trial division.\n",
    "# Function to generate prime factors using trial division\n",
    "def prime_factors(n):\n",
    "    factors = []\n",
    "    divisor = 2\n",
    "\n",
    "    while n > 1:\n",
    "        while n % divisor == 0:\n",
    "            factors.append(divisor)\n",
    "            n //= divisor\n",
    "        divisor += 1\n",
    "\n",
    "    return factors\n",
    "\n",
    "# Input a number from the user\n",
    "number = int(input(\"Enter a number: \"))\n",
    "\n",
    "# Check for valid input\n",
    "if number < 2:\n",
    "    print(\"Please enter a number greater than or equal to 2.\")\n",
    "else:\n",
    "    # Generate and display prime factors\n",
    "    factors = prime_factors(number)\n",
    "    print(f\"\\nPrime factors of {number}: {factors}\")\n"
   ]
  },
  {
   "cell_type": "code",
   "execution_count": null,
   "id": "59937d69-484f-46ed-8e1c-0a4f7580b16a",
   "metadata": {},
   "outputs": [],
   "source": []
  }
 ],
 "metadata": {
  "kernelspec": {
   "display_name": "Python 3 (ipykernel)",
   "language": "python",
   "name": "python3"
  },
  "language_info": {
   "codemirror_mode": {
    "name": "ipython",
    "version": 3
   },
   "file_extension": ".py",
   "mimetype": "text/x-python",
   "name": "python",
   "nbconvert_exporter": "python",
   "pygments_lexer": "ipython3",
   "version": "3.10.8"
  }
 },
 "nbformat": 4,
 "nbformat_minor": 5
}
